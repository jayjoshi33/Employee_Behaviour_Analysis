{
 "cells": [
  {
   "cell_type": "code",
   "execution_count": 1,
   "metadata": {
    "_cell_guid": "b1076dfc-b9ad-4769-8c92-a6c4dae69d19",
    "_uuid": "8f2839f25d086af736a60e9eeb907d3b93b6e0e5",
    "execution": {
     "iopub.execute_input": "2023-12-12T11:46:23.638386Z",
     "iopub.status.busy": "2023-12-12T11:46:23.637760Z",
     "iopub.status.idle": "2023-12-12T11:46:24.210341Z",
     "shell.execute_reply": "2023-12-12T11:46:24.208971Z",
     "shell.execute_reply.started": "2023-12-12T11:46:23.638336Z"
    }
   },
   "outputs": [
    {
     "name": "stdout",
     "output_type": "stream",
     "text": [
      "/kaggle/input/employee-dataset/Employee.csv\n"
     ]
    }
   ],
   "source": [
    "# This Python 3 environment comes with many helpful analytics libraries installed\n",
    "# It is defined by the kaggle/python Docker image: https://github.com/kaggle/docker-python\n",
    "# For example, here's several helpful packages to load\n",
    "\n",
    "import numpy as np # linear algebra\n",
    "import pandas as pd # data processing, CSV file I/O (e.g. pd.read_csv)\n",
    "\n",
    "# Input data files are available in the read-only \"../input/\" directory\n",
    "# For example, running this (by clicking run or pressing Shift+Enter) will list all files under the input directory\n",
    "\n",
    "import os\n",
    "for dirname, _, filenames in os.walk('/kaggle/input'):\n",
    "    for filename in filenames:\n",
    "        print(os.path.join(dirname, filename))\n",
    "\n",
    "# You can write up to 20GB to the current directory (/kaggle/working/) that gets preserved as output when you create a version using \"Save & Run All\" \n",
    "# You can also write temporary files to /kaggle/temp/, but they won't be saved outside of the current session"
   ]
  },
  {
   "cell_type": "code",
   "execution_count": 2,
   "metadata": {
    "execution": {
     "iopub.execute_input": "2023-12-12T11:46:24.213260Z",
     "iopub.status.busy": "2023-12-12T11:46:24.212618Z",
     "iopub.status.idle": "2023-12-12T11:46:24.219161Z",
     "shell.execute_reply": "2023-12-12T11:46:24.217957Z",
     "shell.execute_reply.started": "2023-12-12T11:46:24.213216Z"
    }
   },
   "outputs": [],
   "source": [
    "import pandas as pd\n",
    "import numpy as np"
   ]
  },
  {
   "cell_type": "code",
   "execution_count": 3,
   "metadata": {
    "execution": {
     "iopub.execute_input": "2023-12-12T11:46:24.221308Z",
     "iopub.status.busy": "2023-12-12T11:46:24.220854Z",
     "iopub.status.idle": "2023-12-12T11:46:24.298530Z",
     "shell.execute_reply": "2023-12-12T11:46:24.297281Z",
     "shell.execute_reply.started": "2023-12-12T11:46:24.221267Z"
    }
   },
   "outputs": [
    {
     "data": {
      "text/html": [
       "<div>\n",
       "<style scoped>\n",
       "    .dataframe tbody tr th:only-of-type {\n",
       "        vertical-align: middle;\n",
       "    }\n",
       "\n",
       "    .dataframe tbody tr th {\n",
       "        vertical-align: top;\n",
       "    }\n",
       "\n",
       "    .dataframe thead th {\n",
       "        text-align: right;\n",
       "    }\n",
       "</style>\n",
       "<table border=\"1\" class=\"dataframe\">\n",
       "  <thead>\n",
       "    <tr style=\"text-align: right;\">\n",
       "      <th></th>\n",
       "      <th>Education</th>\n",
       "      <th>JoiningYear</th>\n",
       "      <th>City</th>\n",
       "      <th>PaymentTier</th>\n",
       "      <th>Age</th>\n",
       "      <th>Gender</th>\n",
       "      <th>EverBenched</th>\n",
       "      <th>ExperienceInCurrentDomain</th>\n",
       "      <th>LeaveOrNot</th>\n",
       "    </tr>\n",
       "  </thead>\n",
       "  <tbody>\n",
       "    <tr>\n",
       "      <th>0</th>\n",
       "      <td>Bachelors</td>\n",
       "      <td>2017</td>\n",
       "      <td>Bangalore</td>\n",
       "      <td>3</td>\n",
       "      <td>34</td>\n",
       "      <td>Male</td>\n",
       "      <td>No</td>\n",
       "      <td>0</td>\n",
       "      <td>0</td>\n",
       "    </tr>\n",
       "    <tr>\n",
       "      <th>1</th>\n",
       "      <td>Bachelors</td>\n",
       "      <td>2013</td>\n",
       "      <td>Pune</td>\n",
       "      <td>1</td>\n",
       "      <td>28</td>\n",
       "      <td>Female</td>\n",
       "      <td>No</td>\n",
       "      <td>3</td>\n",
       "      <td>1</td>\n",
       "    </tr>\n",
       "    <tr>\n",
       "      <th>2</th>\n",
       "      <td>Bachelors</td>\n",
       "      <td>2014</td>\n",
       "      <td>New Delhi</td>\n",
       "      <td>3</td>\n",
       "      <td>38</td>\n",
       "      <td>Female</td>\n",
       "      <td>No</td>\n",
       "      <td>2</td>\n",
       "      <td>0</td>\n",
       "    </tr>\n",
       "    <tr>\n",
       "      <th>3</th>\n",
       "      <td>Masters</td>\n",
       "      <td>2016</td>\n",
       "      <td>Bangalore</td>\n",
       "      <td>3</td>\n",
       "      <td>27</td>\n",
       "      <td>Male</td>\n",
       "      <td>No</td>\n",
       "      <td>5</td>\n",
       "      <td>1</td>\n",
       "    </tr>\n",
       "    <tr>\n",
       "      <th>4</th>\n",
       "      <td>Masters</td>\n",
       "      <td>2017</td>\n",
       "      <td>Pune</td>\n",
       "      <td>3</td>\n",
       "      <td>24</td>\n",
       "      <td>Male</td>\n",
       "      <td>Yes</td>\n",
       "      <td>2</td>\n",
       "      <td>1</td>\n",
       "    </tr>\n",
       "  </tbody>\n",
       "</table>\n",
       "</div>"
      ],
      "text/plain": [
       "   Education  JoiningYear       City  PaymentTier  Age  Gender EverBenched  \\\n",
       "0  Bachelors         2017  Bangalore            3   34    Male          No   \n",
       "1  Bachelors         2013       Pune            1   28  Female          No   \n",
       "2  Bachelors         2014  New Delhi            3   38  Female          No   \n",
       "3    Masters         2016  Bangalore            3   27    Male          No   \n",
       "4    Masters         2017       Pune            3   24    Male         Yes   \n",
       "\n",
       "   ExperienceInCurrentDomain  LeaveOrNot  \n",
       "0                          0           0  \n",
       "1                          3           1  \n",
       "2                          2           0  \n",
       "3                          5           1  \n",
       "4                          2           1  "
      ]
     },
     "execution_count": 3,
     "metadata": {},
     "output_type": "execute_result"
    }
   ],
   "source": [
    "#1 How data looks like?\n",
    "df=pd.read_csv('/kaggle/input/employee-dataset/Employee.csv')\n",
    "df.head()"
   ]
  },
  {
   "cell_type": "code",
   "execution_count": 4,
   "metadata": {
    "execution": {
     "iopub.execute_input": "2023-12-12T11:46:24.301636Z",
     "iopub.status.busy": "2023-12-12T11:46:24.301289Z",
     "iopub.status.idle": "2023-12-12T11:46:24.308755Z",
     "shell.execute_reply": "2023-12-12T11:46:24.307215Z",
     "shell.execute_reply.started": "2023-12-12T11:46:24.301605Z"
    }
   },
   "outputs": [
    {
     "data": {
      "text/plain": [
       "(4653, 9)"
      ]
     },
     "execution_count": 4,
     "metadata": {},
     "output_type": "execute_result"
    }
   ],
   "source": [
    "#2 How big data is?\n",
    "df.shape"
   ]
  },
  {
   "cell_type": "code",
   "execution_count": 5,
   "metadata": {
    "execution": {
     "iopub.execute_input": "2023-12-12T11:46:24.310748Z",
     "iopub.status.busy": "2023-12-12T11:46:24.310345Z",
     "iopub.status.idle": "2023-12-12T11:46:24.349734Z",
     "shell.execute_reply": "2023-12-12T11:46:24.348843Z",
     "shell.execute_reply.started": "2023-12-12T11:46:24.310703Z"
    }
   },
   "outputs": [
    {
     "name": "stdout",
     "output_type": "stream",
     "text": [
      "<class 'pandas.core.frame.DataFrame'>\n",
      "RangeIndex: 4653 entries, 0 to 4652\n",
      "Data columns (total 9 columns):\n",
      " #   Column                     Non-Null Count  Dtype \n",
      "---  ------                     --------------  ----- \n",
      " 0   Education                  4653 non-null   object\n",
      " 1   JoiningYear                4653 non-null   int64 \n",
      " 2   City                       4653 non-null   object\n",
      " 3   PaymentTier                4653 non-null   int64 \n",
      " 4   Age                        4653 non-null   int64 \n",
      " 5   Gender                     4653 non-null   object\n",
      " 6   EverBenched                4653 non-null   object\n",
      " 7   ExperienceInCurrentDomain  4653 non-null   int64 \n",
      " 8   LeaveOrNot                 4653 non-null   int64 \n",
      "dtypes: int64(5), object(4)\n",
      "memory usage: 327.3+ KB\n"
     ]
    }
   ],
   "source": [
    "#3 Column datatypes?\n",
    "df.info()"
   ]
  },
  {
   "cell_type": "code",
   "execution_count": 6,
   "metadata": {
    "execution": {
     "iopub.execute_input": "2023-12-12T11:46:24.351486Z",
     "iopub.status.busy": "2023-12-12T11:46:24.350810Z",
     "iopub.status.idle": "2023-12-12T11:46:24.356311Z",
     "shell.execute_reply": "2023-12-12T11:46:24.354986Z",
     "shell.execute_reply.started": "2023-12-12T11:46:24.351454Z"
    }
   },
   "outputs": [],
   "source": [
    "#Input features=8\n",
    "#Target column= LeaveorNot\n",
    "#There are total 4653 rows so we will 80% for training and 20% for testing.\n",
    "#K-fold it 5 times.\n"
   ]
  },
  {
   "cell_type": "code",
   "execution_count": 7,
   "metadata": {
    "execution": {
     "iopub.execute_input": "2023-12-12T11:46:24.358204Z",
     "iopub.status.busy": "2023-12-12T11:46:24.357794Z",
     "iopub.status.idle": "2023-12-12T11:46:24.397270Z",
     "shell.execute_reply": "2023-12-12T11:46:24.395893Z",
     "shell.execute_reply.started": "2023-12-12T11:46:24.358172Z"
    }
   },
   "outputs": [
    {
     "data": {
      "text/html": [
       "<div>\n",
       "<style scoped>\n",
       "    .dataframe tbody tr th:only-of-type {\n",
       "        vertical-align: middle;\n",
       "    }\n",
       "\n",
       "    .dataframe tbody tr th {\n",
       "        vertical-align: top;\n",
       "    }\n",
       "\n",
       "    .dataframe thead th {\n",
       "        text-align: right;\n",
       "    }\n",
       "</style>\n",
       "<table border=\"1\" class=\"dataframe\">\n",
       "  <thead>\n",
       "    <tr style=\"text-align: right;\">\n",
       "      <th></th>\n",
       "      <th>JoiningYear</th>\n",
       "      <th>PaymentTier</th>\n",
       "      <th>Age</th>\n",
       "      <th>ExperienceInCurrentDomain</th>\n",
       "      <th>LeaveOrNot</th>\n",
       "    </tr>\n",
       "  </thead>\n",
       "  <tbody>\n",
       "    <tr>\n",
       "      <th>count</th>\n",
       "      <td>4653.000000</td>\n",
       "      <td>4653.000000</td>\n",
       "      <td>4653.000000</td>\n",
       "      <td>4653.000000</td>\n",
       "      <td>4653.000000</td>\n",
       "    </tr>\n",
       "    <tr>\n",
       "      <th>mean</th>\n",
       "      <td>2015.062970</td>\n",
       "      <td>2.698259</td>\n",
       "      <td>29.393295</td>\n",
       "      <td>2.905652</td>\n",
       "      <td>0.343864</td>\n",
       "    </tr>\n",
       "    <tr>\n",
       "      <th>std</th>\n",
       "      <td>1.863377</td>\n",
       "      <td>0.561435</td>\n",
       "      <td>4.826087</td>\n",
       "      <td>1.558240</td>\n",
       "      <td>0.475047</td>\n",
       "    </tr>\n",
       "    <tr>\n",
       "      <th>min</th>\n",
       "      <td>2012.000000</td>\n",
       "      <td>1.000000</td>\n",
       "      <td>22.000000</td>\n",
       "      <td>0.000000</td>\n",
       "      <td>0.000000</td>\n",
       "    </tr>\n",
       "    <tr>\n",
       "      <th>25%</th>\n",
       "      <td>2013.000000</td>\n",
       "      <td>3.000000</td>\n",
       "      <td>26.000000</td>\n",
       "      <td>2.000000</td>\n",
       "      <td>0.000000</td>\n",
       "    </tr>\n",
       "    <tr>\n",
       "      <th>50%</th>\n",
       "      <td>2015.000000</td>\n",
       "      <td>3.000000</td>\n",
       "      <td>28.000000</td>\n",
       "      <td>3.000000</td>\n",
       "      <td>0.000000</td>\n",
       "    </tr>\n",
       "    <tr>\n",
       "      <th>75%</th>\n",
       "      <td>2017.000000</td>\n",
       "      <td>3.000000</td>\n",
       "      <td>32.000000</td>\n",
       "      <td>4.000000</td>\n",
       "      <td>1.000000</td>\n",
       "    </tr>\n",
       "    <tr>\n",
       "      <th>max</th>\n",
       "      <td>2018.000000</td>\n",
       "      <td>3.000000</td>\n",
       "      <td>41.000000</td>\n",
       "      <td>7.000000</td>\n",
       "      <td>1.000000</td>\n",
       "    </tr>\n",
       "  </tbody>\n",
       "</table>\n",
       "</div>"
      ],
      "text/plain": [
       "       JoiningYear  PaymentTier          Age  ExperienceInCurrentDomain  \\\n",
       "count  4653.000000  4653.000000  4653.000000                4653.000000   \n",
       "mean   2015.062970     2.698259    29.393295                   2.905652   \n",
       "std       1.863377     0.561435     4.826087                   1.558240   \n",
       "min    2012.000000     1.000000    22.000000                   0.000000   \n",
       "25%    2013.000000     3.000000    26.000000                   2.000000   \n",
       "50%    2015.000000     3.000000    28.000000                   3.000000   \n",
       "75%    2017.000000     3.000000    32.000000                   4.000000   \n",
       "max    2018.000000     3.000000    41.000000                   7.000000   \n",
       "\n",
       "        LeaveOrNot  \n",
       "count  4653.000000  \n",
       "mean      0.343864  \n",
       "std       0.475047  \n",
       "min       0.000000  \n",
       "25%       0.000000  \n",
       "50%       0.000000  \n",
       "75%       1.000000  \n",
       "max       1.000000  "
      ]
     },
     "execution_count": 7,
     "metadata": {},
     "output_type": "execute_result"
    }
   ],
   "source": [
    "#4 How data is mathematically?\n",
    "df.describe()"
   ]
  },
  {
   "cell_type": "code",
   "execution_count": 8,
   "metadata": {
    "execution": {
     "iopub.execute_input": "2023-12-12T11:46:24.399993Z",
     "iopub.status.busy": "2023-12-12T11:46:24.399239Z",
     "iopub.status.idle": "2023-12-12T11:46:24.411745Z",
     "shell.execute_reply": "2023-12-12T11:46:24.410367Z",
     "shell.execute_reply.started": "2023-12-12T11:46:24.399953Z"
    }
   },
   "outputs": [
    {
     "data": {
      "text/plain": [
       "Education                    0\n",
       "JoiningYear                  0\n",
       "City                         0\n",
       "PaymentTier                  0\n",
       "Age                          0\n",
       "Gender                       0\n",
       "EverBenched                  0\n",
       "ExperienceInCurrentDomain    0\n",
       "LeaveOrNot                   0\n",
       "dtype: int64"
      ]
     },
     "execution_count": 8,
     "metadata": {},
     "output_type": "execute_result"
    }
   ],
   "source": [
    "#5 Are there any missing values?\n",
    "df.isnull().sum()"
   ]
  },
  {
   "cell_type": "code",
   "execution_count": 9,
   "metadata": {
    "execution": {
     "iopub.execute_input": "2023-12-12T11:46:24.415019Z",
     "iopub.status.busy": "2023-12-12T11:46:24.413934Z",
     "iopub.status.idle": "2023-12-12T11:46:24.421797Z",
     "shell.execute_reply": "2023-12-12T11:46:24.420693Z",
     "shell.execute_reply.started": "2023-12-12T11:46:24.414976Z"
    }
   },
   "outputs": [],
   "source": [
    "# #6 Are there any duplicated row?\n",
    "# df.duplicated().sum()"
   ]
  },
  {
   "cell_type": "markdown",
   "metadata": {},
   "source": [
    "# EDA"
   ]
  },
  {
   "cell_type": "code",
   "execution_count": 10,
   "metadata": {
    "execution": {
     "iopub.execute_input": "2023-12-12T11:46:24.427724Z",
     "iopub.status.busy": "2023-12-12T11:46:24.427067Z",
     "iopub.status.idle": "2023-12-12T11:46:25.522210Z",
     "shell.execute_reply": "2023-12-12T11:46:25.520641Z",
     "shell.execute_reply.started": "2023-12-12T11:46:24.427677Z"
    }
   },
   "outputs": [],
   "source": [
    "import matplotlib.pyplot as plt\n",
    "import seaborn as sns"
   ]
  },
  {
   "cell_type": "code",
   "execution_count": 11,
   "metadata": {
    "execution": {
     "iopub.execute_input": "2023-12-12T11:46:25.524114Z",
     "iopub.status.busy": "2023-12-12T11:46:25.523649Z",
     "iopub.status.idle": "2023-12-12T11:46:25.996439Z",
     "shell.execute_reply": "2023-12-12T11:46:25.995151Z",
     "shell.execute_reply.started": "2023-12-12T11:46:25.524070Z"
    }
   },
   "outputs": [
    {
     "data": {
      "image/png": "[encoded data removed]",
      "text/plain": [
       "<Figure size 800x600 with 1 Axes>"
      ]
     },
     "metadata": {},
     "output_type": "display_data"
    }
   ],
   "source": [
    "lc = df['LeaveOrNot'].value_counts()\n",
    "plt.figure(figsize=(8, 6))\n",
    "bars = plt.bar(lc.index, lc.values)\n",
    "bars[0].set_color('darkgreen')  # Male\n",
    "bars[1].set_color('yellow') \n",
    "plt.title('Count of Leave')\n",
    "plt.xlabel('Leave or not')\n",
    "plt.ylabel('Count')\n",
    "\n",
    "plt.show()"
   ]
  },
  {
   "cell_type": "code",
   "execution_count": 12,
   "metadata": {
    "execution": {
     "iopub.execute_input": "2023-12-12T11:46:25.999637Z",
     "iopub.status.busy": "2023-12-12T11:46:25.998464Z",
     "iopub.status.idle": "2023-12-12T11:46:26.263753Z",
     "shell.execute_reply": "2023-12-12T11:46:26.262055Z",
     "shell.execute_reply.started": "2023-12-12T11:46:25.999596Z"
    }
   },
   "outputs": [
    {
     "data": {
      "image/png": "[encoded data removed]",
      "text/plain": [
       "<Figure size 800x600 with 1 Axes>"
      ]
     },
     "metadata": {},
     "output_type": "display_data"
    }
   ],
   "source": [
    "gender_counts = df['Gender'].value_counts()\n",
    "plt.figure(figsize=(8, 6))\n",
    "\n",
    "bars = plt.bar(gender_counts.index, gender_counts.values, color=['skyblue', 'salmon'])\n",
    "bars[0].set_color('skyblue')  # Male\n",
    "bars[1].set_color('salmon')   # Female\n",
    "\n",
    "plt.title('Count of Male and Female')\n",
    "plt.xlabel('Gender')\n",
    "plt.ylabel('Count')\n",
    "plt.show()\n"
   ]
  },
  {
   "cell_type": "code",
   "execution_count": 13,
   "metadata": {
    "execution": {
     "iopub.execute_input": "2023-12-12T11:46:26.266097Z",
     "iopub.status.busy": "2023-12-12T11:46:26.265747Z",
     "iopub.status.idle": "2023-12-12T11:46:26.517092Z",
     "shell.execute_reply": "2023-12-12T11:46:26.515977Z",
     "shell.execute_reply.started": "2023-12-12T11:46:26.266067Z"
    }
   },
   "outputs": [
    {
     "data": {
      "image/png": "[encoded data removed]",
      "text/plain": [
       "<Figure size 800x600 with 1 Axes>"
      ]
     },
     "metadata": {},
     "output_type": "display_data"
    }
   ],
   "source": [
    "bench_counts = df['EverBenched'].value_counts()\n",
    "plt.figure(figsize=(8, 6))\n",
    "\n",
    "bars = plt.bar(bench_counts.index, bench_counts.values)\n",
    "bars[0].set_color('orange')  \n",
    "bars[1].set_color('blue')  \n",
    "\n",
    "plt.title('Count of Benched or not')\n",
    "plt.xlabel('Bench')\n",
    "plt.ylabel('Count')\n",
    "plt.show()\n"
   ]
  },
  {
   "cell_type": "code",
   "execution_count": 14,
   "metadata": {
    "execution": {
     "iopub.execute_input": "2023-12-12T11:46:26.519776Z",
     "iopub.status.busy": "2023-12-12T11:46:26.518581Z",
     "iopub.status.idle": "2023-12-12T11:46:26.994364Z",
     "shell.execute_reply": "2023-12-12T11:46:26.993212Z",
     "shell.execute_reply.started": "2023-12-12T11:46:26.519733Z"
    }
   },
   "outputs": [
    {
     "data": {
      "text/plain": [
       "<seaborn.axisgrid.FacetGrid at 0x7ddff0912c80>"
      ]
     },
     "execution_count": 14,
     "metadata": {},
     "output_type": "execute_result"
    },
    {
     "data": {
      "image/png": "[encoded data removed]",
      "text/plain": [
       "<Figure size 500x500 with 1 Axes>"
      ]
     },
     "metadata": {},
     "output_type": "display_data"
    }
   ],
   "source": [
    "sns.displot(df['Age'])"
   ]
  },
  {
   "cell_type": "code",
   "execution_count": 15,
   "metadata": {
    "execution": {
     "iopub.execute_input": "2023-12-12T11:46:26.997215Z",
     "iopub.status.busy": "2023-12-12T11:46:26.996076Z",
     "iopub.status.idle": "2023-12-12T11:46:27.407231Z",
     "shell.execute_reply": "2023-12-12T11:46:27.405922Z",
     "shell.execute_reply.started": "2023-12-12T11:46:26.997170Z"
    }
   },
   "outputs": [
    {
     "data": {
      "text/plain": [
       "<seaborn.axisgrid.FacetGrid at 0x7ddff08d8850>"
      ]
     },
     "execution_count": 15,
     "metadata": {},
     "output_type": "execute_result"
    },
    {
     "data": {
      "image/png": "[encoded data removed]",
      "text/plain": [
       "<Figure size 500x500 with 1 Axes>"
      ]
     },
     "metadata": {},
     "output_type": "display_data"
    }
   ],
   "source": [
    "sns.displot(df['ExperienceInCurrentDomain'])"
   ]
  },
  {
   "cell_type": "code",
   "execution_count": 16,
   "metadata": {
    "execution": {
     "iopub.execute_input": "2023-12-12T11:46:27.409294Z",
     "iopub.status.busy": "2023-12-12T11:46:27.408931Z",
     "iopub.status.idle": "2023-12-12T11:46:27.614987Z",
     "shell.execute_reply": "2023-12-12T11:46:27.613156Z",
     "shell.execute_reply.started": "2023-12-12T11:46:27.409264Z"
    }
   },
   "outputs": [
    {
     "data": {
      "text/plain": [
       "<Axes: ylabel='count'>"
      ]
     },
     "execution_count": 16,
     "metadata": {},
     "output_type": "execute_result"
    },
    {
     "data": {
      "image/png": "[encoded data removed]",
      "text/plain": [
       "<Figure size 640x480 with 1 Axes>"
      ]
     },
     "metadata": {},
     "output_type": "display_data"
    }
   ],
   "source": [
    "df['PaymentTier'].value_counts().plot(kind='pie',autopct='%.2f',colormap='spring')"
   ]
  },
  {
   "cell_type": "code",
   "execution_count": 17,
   "metadata": {
    "execution": {
     "iopub.execute_input": "2023-12-12T11:46:27.625244Z",
     "iopub.status.busy": "2023-12-12T11:46:27.624284Z",
     "iopub.status.idle": "2023-12-12T11:46:27.803029Z",
     "shell.execute_reply": "2023-12-12T11:46:27.801855Z",
     "shell.execute_reply.started": "2023-12-12T11:46:27.625193Z"
    }
   },
   "outputs": [
    {
     "data": {
      "text/plain": [
       "<Axes: ylabel='count'>"
      ]
     },
     "execution_count": 17,
     "metadata": {},
     "output_type": "execute_result"
    },
    {
     "data": {
      "image/png": "[encoded data removed]",
      "text/plain": [
       "<Figure size 640x480 with 1 Axes>"
      ]
     },
     "metadata": {},
     "output_type": "display_data"
    }
   ],
   "source": [
    "df['City'].value_counts().plot(kind='pie',autopct='%.2f',colormap='viridis')"
   ]
  },
  {
   "cell_type": "code",
   "execution_count": 18,
   "metadata": {
    "execution": {
     "iopub.execute_input": "2023-12-12T11:46:27.805507Z",
     "iopub.status.busy": "2023-12-12T11:46:27.804737Z",
     "iopub.status.idle": "2023-12-12T11:46:27.983430Z",
     "shell.execute_reply": "2023-12-12T11:46:27.982193Z",
     "shell.execute_reply.started": "2023-12-12T11:46:27.805470Z"
    }
   },
   "outputs": [
    {
     "data": {
      "text/plain": [
       "<Axes: ylabel='count'>"
      ]
     },
     "execution_count": 18,
     "metadata": {},
     "output_type": "execute_result"
    },
    {
     "data": {
      "image/png": "[encoded data removed]",
      "text/plain": [
       "<Figure size 640x480 with 1 Axes>"
      ]
     },
     "metadata": {},
     "output_type": "display_data"
    }
   ],
   "source": [
    "df['Education'].value_counts().plot(kind='pie',autopct='%.1f',colormap='plasma')"
   ]
  },
  {
   "cell_type": "markdown",
   "metadata": {},
   "source": [
    "# Multivariate analysis "
   ]
  },
  {
   "cell_type": "code",
   "execution_count": 19,
   "metadata": {
    "execution": {
     "iopub.execute_input": "2023-12-12T11:46:27.985974Z",
     "iopub.status.busy": "2023-12-12T11:46:27.985111Z",
     "iopub.status.idle": "2023-12-12T11:46:27.992420Z",
     "shell.execute_reply": "2023-12-12T11:46:27.991131Z",
     "shell.execute_reply.started": "2023-12-12T11:46:27.985899Z"
    }
   },
   "outputs": [],
   "source": [
    "# sns.scatterplot(x=df['Age'],y=df['ExperienceInCurrentDomain'],hue=df['Gender'],style=df['Education'])"
   ]
  },
  {
   "cell_type": "code",
   "execution_count": 20,
   "metadata": {
    "execution": {
     "iopub.execute_input": "2023-12-12T11:46:27.995632Z",
     "iopub.status.busy": "2023-12-12T11:46:27.994680Z",
     "iopub.status.idle": "2023-12-12T11:46:28.414766Z",
     "shell.execute_reply": "2023-12-12T11:46:28.413769Z",
     "shell.execute_reply.started": "2023-12-12T11:46:27.995571Z"
    }
   },
   "outputs": [
    {
     "data": {
      "text/plain": [
       "<Axes: xlabel='LeaveOrNot', ylabel='Age'>"
      ]
     },
     "execution_count": 20,
     "metadata": {},
     "output_type": "execute_result"
    },
    {
     "data": {
      "image/png": "[encoded data removed]",
      "text/plain": [
       "<Figure size 640x480 with 1 Axes>"
      ]
     },
     "metadata": {},
     "output_type": "display_data"
    }
   ],
   "source": [
    "sns.barplot(x=df['LeaveOrNot'],y=df['Age'],palette='Pastel1')"
   ]
  },
  {
   "cell_type": "code",
   "execution_count": 21,
   "metadata": {
    "execution": {
     "iopub.execute_input": "2023-12-12T11:46:28.421606Z",
     "iopub.status.busy": "2023-12-12T11:46:28.421007Z",
     "iopub.status.idle": "2023-12-12T11:46:28.783849Z",
     "shell.execute_reply": "2023-12-12T11:46:28.783020Z",
     "shell.execute_reply.started": "2023-12-12T11:46:28.421571Z"
    }
   },
   "outputs": [
    {
     "data": {
      "text/plain": [
       "<Axes: xlabel='Gender', ylabel='LeaveOrNot'>"
      ]
     },
     "execution_count": 21,
     "metadata": {},
     "output_type": "execute_result"
    },
    {
     "data": {
      "image/png": "[encoded data removed]",
      "text/plain": [
       "<Figure size 640x480 with 1 Axes>"
      ]
     },
     "metadata": {},
     "output_type": "display_data"
    }
   ],
   "source": [
    "sns.barplot(y=df['LeaveOrNot'],x=df['Gender'],palette='Accent')"
   ]
  },
  {
   "cell_type": "code",
   "execution_count": 22,
   "metadata": {
    "execution": {
     "iopub.execute_input": "2023-12-12T11:46:28.785631Z",
     "iopub.status.busy": "2023-12-12T11:46:28.785127Z",
     "iopub.status.idle": "2023-12-12T11:46:29.537279Z",
     "shell.execute_reply": "2023-12-12T11:46:29.536063Z",
     "shell.execute_reply.started": "2023-12-12T11:46:28.785600Z"
    }
   },
   "outputs": [
    {
     "data": {
      "text/plain": [
       "<Axes: xlabel='City', ylabel='LeaveOrNot'>"
      ]
     },
     "execution_count": 22,
     "metadata": {},
     "output_type": "execute_result"
    },
    {
     "data": {
      "image/png": "[encoded data removed]",
      "text/plain": [
       "<Figure size 640x480 with 1 Axes>"
      ]
     },
     "metadata": {},
     "output_type": "display_data"
    }
   ],
   "source": [
    "sns.barplot(y=df['LeaveOrNot'],x=df['City'],hue=df['Education'],palette='Pastel2')"
   ]
  },
  {
   "cell_type": "code",
   "execution_count": 23,
   "metadata": {
    "execution": {
     "iopub.execute_input": "2023-12-12T11:46:29.538816Z",
     "iopub.status.busy": "2023-12-12T11:46:29.538498Z",
     "iopub.status.idle": "2023-12-12T11:46:30.142891Z",
     "shell.execute_reply": "2023-12-12T11:46:30.141694Z",
     "shell.execute_reply.started": "2023-12-12T11:46:29.538788Z"
    }
   },
   "outputs": [
    {
     "data": {
      "text/plain": [
       "<Axes: xlabel='City', ylabel='LeaveOrNot'>"
      ]
     },
     "execution_count": 23,
     "metadata": {},
     "output_type": "execute_result"
    },
    {
     "data": {
      "image/png": "[encoded data removed]",
      "text/plain": [
       "<Figure size 640x480 with 1 Axes>"
      ]
     },
     "metadata": {},
     "output_type": "display_data"
    }
   ],
   "source": [
    "sns.barplot(y=df['LeaveOrNot'],x=df['City'],hue=df['Gender'],palette='Set3')"
   ]
  },
  {
   "cell_type": "code",
   "execution_count": 24,
   "metadata": {
    "execution": {
     "iopub.execute_input": "2023-12-12T11:46:30.144654Z",
     "iopub.status.busy": "2023-12-12T11:46:30.144286Z",
     "iopub.status.idle": "2023-12-12T11:46:30.867054Z",
     "shell.execute_reply": "2023-12-12T11:46:30.866050Z",
     "shell.execute_reply.started": "2023-12-12T11:46:30.144621Z"
    }
   },
   "outputs": [
    {
     "data": {
      "text/plain": [
       "<Axes: xlabel='City', ylabel='LeaveOrNot'>"
      ]
     },
     "execution_count": 24,
     "metadata": {},
     "output_type": "execute_result"
    },
    {
     "data": {
      "image/png": "[encoded data removed]",
      "text/plain": [
       "<Figure size 640x480 with 1 Axes>"
      ]
     },
     "metadata": {},
     "output_type": "display_data"
    }
   ],
   "source": [
    "sns.barplot(y=df['LeaveOrNot'],x=df['City'],hue=df['PaymentTier'],palette='Accent')"
   ]
  },
  {
   "cell_type": "code",
   "execution_count": 25,
   "metadata": {
    "execution": {
     "iopub.execute_input": "2023-12-12T11:46:30.869192Z",
     "iopub.status.busy": "2023-12-12T11:46:30.868640Z",
     "iopub.status.idle": "2023-12-12T11:46:31.458252Z",
     "shell.execute_reply": "2023-12-12T11:46:31.457195Z",
     "shell.execute_reply.started": "2023-12-12T11:46:30.869160Z"
    }
   },
   "outputs": [
    {
     "data": {
      "text/plain": [
       "<Axes: xlabel='City', ylabel='LeaveOrNot'>"
      ]
     },
     "execution_count": 25,
     "metadata": {},
     "output_type": "execute_result"
    },
    {
     "data": {
      "image/png": "[encoded data removed]",
      "text/plain": [
       "<Figure size 640x480 with 1 Axes>"
      ]
     },
     "metadata": {},
     "output_type": "display_data"
    }
   ],
   "source": [
    "sns.barplot(y=df['LeaveOrNot'],x=df['City'],hue=df['EverBenched'],palette='plasma')"
   ]
  },
  {
   "cell_type": "code",
   "execution_count": 26,
   "metadata": {
    "execution": {
     "iopub.execute_input": "2023-12-12T11:46:31.460162Z",
     "iopub.status.busy": "2023-12-12T11:46:31.459812Z",
     "iopub.status.idle": "2023-12-12T11:46:31.464737Z",
     "shell.execute_reply": "2023-12-12T11:46:31.463600Z",
     "shell.execute_reply.started": "2023-12-12T11:46:31.460132Z"
    }
   },
   "outputs": [],
   "source": [
    "# sns.barplot(y=df['ExperienceInCurrentDomain'],x=df['City'],hue=df['LeaveOrNot'],palette='Pastel2')"
   ]
  },
  {
   "cell_type": "code",
   "execution_count": 27,
   "metadata": {
    "execution": {
     "iopub.execute_input": "2023-12-12T11:46:31.466732Z",
     "iopub.status.busy": "2023-12-12T11:46:31.466377Z",
     "iopub.status.idle": "2023-12-12T11:46:34.602439Z",
     "shell.execute_reply": "2023-12-12T11:46:34.601141Z",
     "shell.execute_reply.started": "2023-12-12T11:46:31.466701Z"
    }
   },
   "outputs": [
    {
     "data": {
      "text/html": [
       "        <script type=\"text/javascript\">\n",
       "        window.PlotlyConfig = {MathJaxConfig: 'local'};\n",
       "        if (window.MathJax && window.MathJax.Hub && window.MathJax.Hub.Config) {window.MathJax.Hub.Config({SVG: {font: \"STIX-Web\"}});}\n",
       "        if (typeof require !== 'undefined') {\n",
       "        require.undef(\"plotly\");\n",
       "        requirejs.config({\n",
       "            paths: {\n",
       "                'plotly': ['https://cdn.plot.ly/plotly-2.25.2.min']\n",
       "            }\n",
       "        });\n",
       "        require(['plotly'], function(Plotly) {\n",
       "            window._Plotly = Plotly;\n",
       "        });\n",
       "        }\n",
       "        </script>\n",
       "        "
      ]
     },
     "metadata": {},
     "output_type": "display_data"
    },
    {
     "data": {
      "text/html": [
       "<div>                            <div id=\"37895f8e-eae7-4e6d-ab88-781f688f1216\" class=\"plotly-graph-div\" style=\"height:525px; width:100%;\"></div>            <script type=\"text/javascript\">                require([\"plotly\"], function(Plotly) {                    window.PLOTLYENV=window.PLOTLYENV || {};                                    if (document.getElementById(\"37895f8e-eae7-4e6d-ab88-781f688f1216\")) {                    Plotly.newPlot(                        \"37895f8e-eae7-4e6d-ab88-781f688f1216\",                        [{\"alignmentgroup\":\"True\",\"hovertemplate\":\"LeaveOrNot=0\\u003cbr\\u003eCity=%{x}\\u003cbr\\u003ePercentage=%{y}\\u003cextra\\u003e\\u003c\\u002fextra\\u003e\",\"legendgroup\":\"0\",\"marker\":{\"color\":\"skyblue\",\"pattern\":{\"shape\":\"\"}},\"name\":\"0\",\"offsetgroup\":\"0\",\"orientation\":\"v\",\"showlegend\":true,\"textposition\":\"auto\",\"x\":[\"Bangalore\",\"New Delhi\",\"Pune\"],\"xaxis\":\"x\",\"y\":[73.29443447037703,68.36646499567848,49.60567823343849],\"yaxis\":\"y\",\"type\":\"bar\"},{\"alignmentgroup\":\"True\",\"hovertemplate\":\"LeaveOrNot=1\\u003cbr\\u003eCity=%{x}\\u003cbr\\u003ePercentage=%{y}\\u003cextra\\u003e\\u003c\\u002fextra\\u003e\",\"legendgroup\":\"1\",\"marker\":{\"color\":\"salmon\",\"pattern\":{\"shape\":\"\"}},\"name\":\"1\",\"offsetgroup\":\"1\",\"orientation\":\"v\",\"showlegend\":true,\"textposition\":\"auto\",\"x\":[\"Bangalore\",\"New Delhi\",\"Pune\"],\"xaxis\":\"x\",\"y\":[26.705565529622984,31.633535004321523,50.39432176656151],\"yaxis\":\"y\",\"type\":\"bar\"}],                        {\"template\":{\"data\":{\"histogram2dcontour\":[{\"type\":\"histogram2dcontour\",\"colorbar\":{\"outlinewidth\":0,\"ticks\":\"\"},\"colorscale\":[[0.0,\"#0d0887\"],[0.1111111111111111,\"#46039f\"],[0.2222222222222222,\"#7201a8\"],[0.3333333333333333,\"#9c179e\"],[0.4444444444444444,\"#bd3786\"],[0.5555555555555556,\"#d8576b\"],[0.6666666666666666,\"#ed7953\"],[0.7777777777777778,\"#fb9f3a\"],[0.8888888888888888,\"#fdca26\"],[1.0,\"#f0f921\"]]}],\"choropleth\":[{\"type\":\"choropleth\",\"colorbar\":{\"outlinewidth\":0,\"ticks\":\"\"}}],\"histogram2d\":[{\"type\":\"histogram2d\",\"colorbar\":{\"outlinewidth\":0,\"ticks\":\"\"},\"colorscale\":[[0.0,\"#0d0887\"],[0.1111111111111111,\"#46039f\"],[0.2222222222222222,\"#7201a8\"],[0.3333333333333333,\"#9c179e\"],[0.4444444444444444,\"#bd3786\"],[0.5555555555555556,\"#d8576b\"],[0.6666666666666666,\"#ed7953\"],[0.7777777777777778,\"#fb9f3a\"],[0.8888888888888888,\"#fdca26\"],[1.0,\"#f0f921\"]]}],\"heatmap\":[{\"type\":\"heatmap\",\"colorbar\":{\"outlinewidth\":0,\"ticks\":\"\"},\"colorscale\":[[0.0,\"#0d0887\"],[0.1111111111111111,\"#46039f\"],[0.2222222222222222,\"#7201a8\"],[0.3333333333333333,\"#9c179e\"],[0.4444444444444444,\"#bd3786\"],[0.5555555555555556,\"#d8576b\"],[0.6666666666666666,\"#ed7953\"],[0.7777777777777778,\"#fb9f3a\"],[0.8888888888888888,\"#fdca26\"],[1.0,\"#f0f921\"]]}],\"heatmapgl\":[{\"type\":\"heatmapgl\",\"colorbar\":{\"outlinewidth\":0,\"ticks\":\"\"},\"colorscale\":[[0.0,\"#0d0887\"],[0.1111111111111111,\"#46039f\"],[0.2222222222222222,\"#7201a8\"],[0.3333333333333333,\"#9c179e\"],[0.4444444444444444,\"#bd3786\"],[0.5555555555555556,\"#d8576b\"],[0.6666666666666666,\"#ed7953\"],[0.7777777777777778,\"#fb9f3a\"],[0.8888888888888888,\"#fdca26\"],[1.0,\"#f0f921\"]]}],\"contourcarpet\":[{\"type\":\"contourcarpet\",\"colorbar\":{\"outlinewidth\":0,\"ticks\":\"\"}}],\"contour\":[{\"type\":\"contour\",\"colorbar\":{\"outlinewidth\":0,\"ticks\":\"\"},\"colorscale\":[[0.0,\"#0d0887\"],[0.1111111111111111,\"#46039f\"],[0.2222222222222222,\"#7201a8\"],[0.3333333333333333,\"#9c179e\"],[0.4444444444444444,\"#bd3786\"],[0.5555555555555556,\"#d8576b\"],[0.6666666666666666,\"#ed7953\"],[0.7777777777777778,\"#fb9f3a\"],[0.8888888888888888,\"#fdca26\"],[1.0,\"#f0f921\"]]}],\"surface\":[{\"type\":\"surface\",\"colorbar\":{\"outlinewidth\":0,\"ticks\":\"\"},\"colorscale\":[[0.0,\"#0d0887\"],[0.1111111111111111,\"#46039f\"],[0.2222222222222222,\"#7201a8\"],[0.3333333333333333,\"#9c179e\"],[0.4444444444444444,\"#bd3786\"],[0.5555555555555556,\"#d8576b\"],[0.6666666666666666,\"#ed7953\"],[0.7777777777777778,\"#fb9f3a\"],[0.8888888888888888,\"#fdca26\"],[1.0,\"#f0f921\"]]}],\"mesh3d\":[{\"type\":\"mesh3d\",\"colorbar\":{\"outlinewidth\":0,\"ticks\":\"\"}}],\"scatter\":[{\"fillpattern\":{\"fillmode\":\"overlay\",\"size\":10,\"solidity\":0.2},\"type\":\"scatter\"}],\"parcoords\":[{\"type\":\"parcoords\",\"line\":{\"colorbar\":{\"outlinewidth\":0,\"ticks\":\"\"}}}],\"scatterpolargl\":[{\"type\":\"scatterpolargl\",\"marker\":{\"colorbar\":{\"outlinewidth\":0,\"ticks\":\"\"}}}],\"bar\":[{\"error_x\":{\"color\":\"#2a3f5f\"},\"error_y\":{\"color\":\"#2a3f5f\"},\"marker\":{\"line\":{\"color\":\"#E5ECF6\",\"width\":0.5},\"pattern\":{\"fillmode\":\"overlay\",\"size\":10,\"solidity\":0.2}},\"type\":\"bar\"}],\"scattergeo\":[{\"type\":\"scattergeo\",\"marker\":{\"colorbar\":{\"outlinewidth\":0,\"ticks\":\"\"}}}],\"scatterpolar\":[{\"type\":\"scatterpolar\",\"marker\":{\"colorbar\":{\"outlinewidth\":0,\"ticks\":\"\"}}}],\"histogram\":[{\"marker\":{\"pattern\":{\"fillmode\":\"overlay\",\"size\":10,\"solidity\":0.2}},\"type\":\"histogram\"}],\"scattergl\":[{\"type\":\"scattergl\",\"marker\":{\"colorbar\":{\"outlinewidth\":0,\"ticks\":\"\"}}}],\"scatter3d\":[{\"type\":\"scatter3d\",\"line\":{\"colorbar\":{\"outlinewidth\":0,\"ticks\":\"\"}},\"marker\":{\"colorbar\":{\"outlinewidth\":0,\"ticks\":\"\"}}}],\"scattermapbox\":[{\"type\":\"scattermapbox\",\"marker\":{\"colorbar\":{\"outlinewidth\":0,\"ticks\":\"\"}}}],\"scatterternary\":[{\"type\":\"scatterternary\",\"marker\":{\"colorbar\":{\"outlinewidth\":0,\"ticks\":\"\"}}}],\"scattercarpet\":[{\"type\":\"scattercarpet\",\"marker\":{\"colorbar\":{\"outlinewidth\":0,\"ticks\":\"\"}}}],\"carpet\":[{\"aaxis\":{\"endlinecolor\":\"#2a3f5f\",\"gridcolor\":\"white\",\"linecolor\":\"white\",\"minorgridcolor\":\"white\",\"startlinecolor\":\"#2a3f5f\"},\"baxis\":{\"endlinecolor\":\"#2a3f5f\",\"gridcolor\":\"white\",\"linecolor\":\"white\",\"minorgridcolor\":\"white\",\"startlinecolor\":\"#2a3f5f\"},\"type\":\"carpet\"}],\"table\":[{\"cells\":{\"fill\":{\"color\":\"#EBF0F8\"},\"line\":{\"color\":\"white\"}},\"header\":{\"fill\":{\"color\":\"#C8D4E3\"},\"line\":{\"color\":\"white\"}},\"type\":\"table\"}],\"barpolar\":[{\"marker\":{\"line\":{\"color\":\"#E5ECF6\",\"width\":0.5},\"pattern\":{\"fillmode\":\"overlay\",\"size\":10,\"solidity\":0.2}},\"type\":\"barpolar\"}],\"pie\":[{\"automargin\":true,\"type\":\"pie\"}]},\"layout\":{\"autotypenumbers\":\"strict\",\"colorway\":[\"#636efa\",\"#EF553B\",\"#00cc96\",\"#ab63fa\",\"#FFA15A\",\"#19d3f3\",\"#FF6692\",\"#B6E880\",\"#FF97FF\",\"#FECB52\"],\"font\":{\"color\":\"#2a3f5f\"},\"hovermode\":\"closest\",\"hoverlabel\":{\"align\":\"left\"},\"paper_bgcolor\":\"white\",\"plot_bgcolor\":\"#E5ECF6\",\"polar\":{\"bgcolor\":\"#E5ECF6\",\"angularaxis\":{\"gridcolor\":\"white\",\"linecolor\":\"white\",\"ticks\":\"\"},\"radialaxis\":{\"gridcolor\":\"white\",\"linecolor\":\"white\",\"ticks\":\"\"}},\"ternary\":{\"bgcolor\":\"#E5ECF6\",\"aaxis\":{\"gridcolor\":\"white\",\"linecolor\":\"white\",\"ticks\":\"\"},\"baxis\":{\"gridcolor\":\"white\",\"linecolor\":\"white\",\"ticks\":\"\"},\"caxis\":{\"gridcolor\":\"white\",\"linecolor\":\"white\",\"ticks\":\"\"}},\"coloraxis\":{\"colorbar\":{\"outlinewidth\":0,\"ticks\":\"\"}},\"colorscale\":{\"sequential\":[[0.0,\"#0d0887\"],[0.1111111111111111,\"#46039f\"],[0.2222222222222222,\"#7201a8\"],[0.3333333333333333,\"#9c179e\"],[0.4444444444444444,\"#bd3786\"],[0.5555555555555556,\"#d8576b\"],[0.6666666666666666,\"#ed7953\"],[0.7777777777777778,\"#fb9f3a\"],[0.8888888888888888,\"#fdca26\"],[1.0,\"#f0f921\"]],\"sequentialminus\":[[0.0,\"#0d0887\"],[0.1111111111111111,\"#46039f\"],[0.2222222222222222,\"#7201a8\"],[0.3333333333333333,\"#9c179e\"],[0.4444444444444444,\"#bd3786\"],[0.5555555555555556,\"#d8576b\"],[0.6666666666666666,\"#ed7953\"],[0.7777777777777778,\"#fb9f3a\"],[0.8888888888888888,\"#fdca26\"],[1.0,\"#f0f921\"]],\"diverging\":[[0,\"#8e0152\"],[0.1,\"#c51b7d\"],[0.2,\"#de77ae\"],[0.3,\"#f1b6da\"],[0.4,\"#fde0ef\"],[0.5,\"#f7f7f7\"],[0.6,\"#e6f5d0\"],[0.7,\"#b8e186\"],[0.8,\"#7fbc41\"],[0.9,\"#4d9221\"],[1,\"#276419\"]]},\"xaxis\":{\"gridcolor\":\"white\",\"linecolor\":\"white\",\"ticks\":\"\",\"title\":{\"standoff\":15},\"zerolinecolor\":\"white\",\"automargin\":true,\"zerolinewidth\":2},\"yaxis\":{\"gridcolor\":\"white\",\"linecolor\":\"white\",\"ticks\":\"\",\"title\":{\"standoff\":15},\"zerolinecolor\":\"white\",\"automargin\":true,\"zerolinewidth\":2},\"scene\":{\"xaxis\":{\"backgroundcolor\":\"#E5ECF6\",\"gridcolor\":\"white\",\"linecolor\":\"white\",\"showbackground\":true,\"ticks\":\"\",\"zerolinecolor\":\"white\",\"gridwidth\":2},\"yaxis\":{\"backgroundcolor\":\"#E5ECF6\",\"gridcolor\":\"white\",\"linecolor\":\"white\",\"showbackground\":true,\"ticks\":\"\",\"zerolinecolor\":\"white\",\"gridwidth\":2},\"zaxis\":{\"backgroundcolor\":\"#E5ECF6\",\"gridcolor\":\"white\",\"linecolor\":\"white\",\"showbackground\":true,\"ticks\":\"\",\"zerolinecolor\":\"white\",\"gridwidth\":2}},\"shapedefaults\":{\"line\":{\"color\":\"#2a3f5f\"}},\"annotationdefaults\":{\"arrowcolor\":\"#2a3f5f\",\"arrowhead\":0,\"arrowwidth\":1},\"geo\":{\"bgcolor\":\"white\",\"landcolor\":\"#E5ECF6\",\"subunitcolor\":\"white\",\"showland\":true,\"showlakes\":true,\"lakecolor\":\"white\"},\"title\":{\"x\":0.05},\"mapbox\":{\"style\":\"light\"}}},\"xaxis\":{\"anchor\":\"y\",\"domain\":[0.0,1.0],\"title\":{\"text\":\"City\"}},\"yaxis\":{\"anchor\":\"x\",\"domain\":[0.0,1.0],\"title\":{\"text\":\"Percentage\"}},\"legend\":{\"title\":{\"text\":\"LeaveOrNot\"},\"tracegroupgap\":0},\"margin\":{\"t\":60},\"barmode\":\"group\",\"title\":{\"text\":\"Percentage of 0 and 1 in LeaveOrNot by City\"}},                        {\"responsive\": true}                    ).then(function(){\n",
       "                            \n",
       "var gd = document.getElementById('37895f8e-eae7-4e6d-ab88-781f688f1216');\n",
       "var x = new MutationObserver(function (mutations, observer) {{\n",
       "        var display = window.getComputedStyle(gd).display;\n",
       "        if (!display || display === 'none') {{\n",
       "            console.log([gd, 'removed!']);\n",
       "            Plotly.purge(gd);\n",
       "            observer.disconnect();\n",
       "        }}\n",
       "}});\n",
       "\n",
       "// Listen for the removal of the full notebook cells\n",
       "var notebookContainer = gd.closest('#notebook-container');\n",
       "if (notebookContainer) {{\n",
       "    x.observe(notebookContainer, {childList: true});\n",
       "}}\n",
       "\n",
       "// Listen for the clearing of the current output cell\n",
       "var outputEl = gd.closest('.output');\n",
       "if (outputEl) {{\n",
       "    x.observe(outputEl, {childList: true});\n",
       "}}\n",
       "\n",
       "                        })                };                });            </script>        </div>"
      ]
     },
     "metadata": {},
     "output_type": "display_data"
    }
   ],
   "source": [
    "percentages = df.groupby('City')['LeaveOrNot'].value_counts(normalize=True).mul(100).unstack().fillna(0)\n",
    "import plotly.express as px\n",
    "\n",
    "\n",
    "percentages_reset = percentages.reset_index()\n",
    "percentages_melted = pd.melt(percentages_reset, id_vars='City', var_name='LeaveOrNot', value_name='Percentage')\n",
    "\n",
    "\n",
    "fig = px.bar(percentages_melted, x='City', y='Percentage', color='LeaveOrNot', barmode='group',\n",
    "             color_discrete_sequence=['skyblue', 'salmon'], labels={'Percentage': 'Percentage', 'City': 'City', 'LeaveOrNot': 'LeaveOrNot'})\n",
    "\n",
    "fig.update_layout(title='Percentage of 0 and 1 in LeaveOrNot by City', xaxis_title='City', yaxis_title='Percentage')\n",
    "fig.show()"
   ]
  },
  {
   "cell_type": "code",
   "execution_count": 28,
   "metadata": {
    "execution": {
     "iopub.execute_input": "2023-12-12T11:46:34.604668Z",
     "iopub.status.busy": "2023-12-12T11:46:34.603808Z",
     "iopub.status.idle": "2023-12-12T11:46:34.612391Z",
     "shell.execute_reply": "2023-12-12T11:46:34.610623Z",
     "shell.execute_reply.started": "2023-12-12T11:46:34.604634Z"
    }
   },
   "outputs": [],
   "source": [
    "# df['JoiningYear'] = pd.to_datetime(df['JoiningYear'])"
   ]
  },
  {
   "cell_type": "code",
   "execution_count": 29,
   "metadata": {
    "execution": {
     "iopub.execute_input": "2023-12-12T11:46:34.615458Z",
     "iopub.status.busy": "2023-12-12T11:46:34.614274Z",
     "iopub.status.idle": "2023-12-12T11:46:34.645843Z",
     "shell.execute_reply": "2023-12-12T11:46:34.644605Z",
     "shell.execute_reply.started": "2023-12-12T11:46:34.615401Z"
    }
   },
   "outputs": [
    {
     "name": "stdout",
     "output_type": "stream",
     "text": [
      "<class 'pandas.core.frame.DataFrame'>\n",
      "RangeIndex: 4653 entries, 0 to 4652\n",
      "Data columns (total 9 columns):\n",
      " #   Column                     Non-Null Count  Dtype \n",
      "---  ------                     --------------  ----- \n",
      " 0   Education                  4653 non-null   object\n",
      " 1   JoiningYear                4653 non-null   int64 \n",
      " 2   City                       4653 non-null   object\n",
      " 3   PaymentTier                4653 non-null   int64 \n",
      " 4   Age                        4653 non-null   int64 \n",
      " 5   Gender                     4653 non-null   object\n",
      " 6   EverBenched                4653 non-null   object\n",
      " 7   ExperienceInCurrentDomain  4653 non-null   int64 \n",
      " 8   LeaveOrNot                 4653 non-null   int64 \n",
      "dtypes: int64(5), object(4)\n",
      "memory usage: 327.3+ KB\n"
     ]
    }
   ],
   "source": [
    "df.info()"
   ]
  },
  {
   "cell_type": "code",
   "execution_count": 30,
   "metadata": {
    "execution": {
     "iopub.execute_input": "2023-12-12T11:46:34.648375Z",
     "iopub.status.busy": "2023-12-12T11:46:34.647508Z",
     "iopub.status.idle": "2023-12-12T11:46:34.669026Z",
     "shell.execute_reply": "2023-12-12T11:46:34.668078Z",
     "shell.execute_reply.started": "2023-12-12T11:46:34.648340Z"
    }
   },
   "outputs": [
    {
     "data": {
      "text/html": [
       "<div>\n",
       "<style scoped>\n",
       "    .dataframe tbody tr th:only-of-type {\n",
       "        vertical-align: middle;\n",
       "    }\n",
       "\n",
       "    .dataframe tbody tr th {\n",
       "        vertical-align: top;\n",
       "    }\n",
       "\n",
       "    .dataframe thead th {\n",
       "        text-align: right;\n",
       "    }\n",
       "</style>\n",
       "<table border=\"1\" class=\"dataframe\">\n",
       "  <thead>\n",
       "    <tr style=\"text-align: right;\">\n",
       "      <th></th>\n",
       "      <th>Education</th>\n",
       "      <th>JoiningYear</th>\n",
       "      <th>City</th>\n",
       "      <th>PaymentTier</th>\n",
       "      <th>Age</th>\n",
       "      <th>Gender</th>\n",
       "      <th>EverBenched</th>\n",
       "      <th>ExperienceInCurrentDomain</th>\n",
       "      <th>LeaveOrNot</th>\n",
       "    </tr>\n",
       "  </thead>\n",
       "  <tbody>\n",
       "    <tr>\n",
       "      <th>0</th>\n",
       "      <td>Bachelors</td>\n",
       "      <td>2017</td>\n",
       "      <td>Bangalore</td>\n",
       "      <td>3</td>\n",
       "      <td>34</td>\n",
       "      <td>Male</td>\n",
       "      <td>No</td>\n",
       "      <td>0</td>\n",
       "      <td>0</td>\n",
       "    </tr>\n",
       "    <tr>\n",
       "      <th>1</th>\n",
       "      <td>Bachelors</td>\n",
       "      <td>2013</td>\n",
       "      <td>Pune</td>\n",
       "      <td>1</td>\n",
       "      <td>28</td>\n",
       "      <td>Female</td>\n",
       "      <td>No</td>\n",
       "      <td>3</td>\n",
       "      <td>1</td>\n",
       "    </tr>\n",
       "    <tr>\n",
       "      <th>2</th>\n",
       "      <td>Bachelors</td>\n",
       "      <td>2014</td>\n",
       "      <td>New Delhi</td>\n",
       "      <td>3</td>\n",
       "      <td>38</td>\n",
       "      <td>Female</td>\n",
       "      <td>No</td>\n",
       "      <td>2</td>\n",
       "      <td>0</td>\n",
       "    </tr>\n",
       "    <tr>\n",
       "      <th>3</th>\n",
       "      <td>Masters</td>\n",
       "      <td>2016</td>\n",
       "      <td>Bangalore</td>\n",
       "      <td>3</td>\n",
       "      <td>27</td>\n",
       "      <td>Male</td>\n",
       "      <td>No</td>\n",
       "      <td>5</td>\n",
       "      <td>1</td>\n",
       "    </tr>\n",
       "    <tr>\n",
       "      <th>4</th>\n",
       "      <td>Masters</td>\n",
       "      <td>2017</td>\n",
       "      <td>Pune</td>\n",
       "      <td>3</td>\n",
       "      <td>24</td>\n",
       "      <td>Male</td>\n",
       "      <td>Yes</td>\n",
       "      <td>2</td>\n",
       "      <td>1</td>\n",
       "    </tr>\n",
       "  </tbody>\n",
       "</table>\n",
       "</div>"
      ],
      "text/plain": [
       "   Education  JoiningYear       City  PaymentTier  Age  Gender EverBenched  \\\n",
       "0  Bachelors         2017  Bangalore            3   34    Male          No   \n",
       "1  Bachelors         2013       Pune            1   28  Female          No   \n",
       "2  Bachelors         2014  New Delhi            3   38  Female          No   \n",
       "3    Masters         2016  Bangalore            3   27    Male          No   \n",
       "4    Masters         2017       Pune            3   24    Male         Yes   \n",
       "\n",
       "   ExperienceInCurrentDomain  LeaveOrNot  \n",
       "0                          0           0  \n",
       "1                          3           1  \n",
       "2                          2           0  \n",
       "3                          5           1  \n",
       "4                          2           1  "
      ]
     },
     "execution_count": 30,
     "metadata": {},
     "output_type": "execute_result"
    }
   ],
   "source": [
    "df.head()"
   ]
  },
  {
   "cell_type": "code",
   "execution_count": 31,
   "metadata": {
    "execution": {
     "iopub.execute_input": "2023-12-12T11:46:34.672144Z",
     "iopub.status.busy": "2023-12-12T11:46:34.671345Z",
     "iopub.status.idle": "2023-12-12T11:46:35.074927Z",
     "shell.execute_reply": "2023-12-12T11:46:35.073804Z",
     "shell.execute_reply.started": "2023-12-12T11:46:34.672108Z"
    }
   },
   "outputs": [
    {
     "data": {
      "image/png": "[encoded data removed]",
      "text/plain": [
       "<Figure size 1000x600 with 1 Axes>"
      ]
     },
     "metadata": {},
     "output_type": "display_data"
    }
   ],
   "source": [
    "plt.figure(figsize=(10, 6))\n",
    "sns.countplot(x=df['JoiningYear'], hue='LeaveOrNot', data=df)\n",
    "\n",
    "plt.title('Count of LeaveOrNot Over JoiningYear')\n",
    "plt.xlabel('Joining Year')\n",
    "plt.ylabel('Count')\n",
    "plt.legend(title='LeaveOrNot')\n",
    "plt.xticks(rotation=45)  # Rotating x-axis labels for better readability, adjust as needed\n",
    "plt.show()"
   ]
  },
  {
   "cell_type": "markdown",
   "metadata": {},
   "source": [
    "Insights:\n",
    "1. Females are more likey to leave compared to males so gender is important feature to decide whether employee will leave or not.\n",
    "\n",
    "2. 77% of employees have done Bachlors while only 3.8% have done PHD.\n",
    "\n",
    "3. In Banglore,employees done Masters have probability of 0.7 of leaving while in Pune employees done Bachlors have 0.5 probability of leaving.Employees done PHD and working in Pune have least probability of leaving(0.2).\n",
    "\n",
    "4. Female employees of Pune have highest probabilty of leaving (0.8) while gender doesn't affect much in Banglore and New Delhi.\n",
    "\n",
    "5. In Banglore, employees having payment tier 2 have very good probability of leaving (0.7) while in Pune employees having payment tier 1 and 2 are equally and highly to leave (0.7).Payment tier don't affect much in New Delhi.\n",
    "\n",
    "6. 65% of employees of Pune if ever benched will leave while 47% of New Delhi will also leave if benched.Ever benched feature is least affected in Banglore city.\n",
    "\n",
    "7. Most employees leave from Pune (50%) while around 70% of employees from New Delhi and Banglore don't leave so easily.\n",
    "\n",
    "8. As the time passed, number of employees leaving increased.\n"
   ]
  },
  {
   "cell_type": "code",
   "execution_count": null,
   "metadata": {},
   "outputs": [],
   "source": []
  },
  {
   "cell_type": "markdown",
   "metadata": {},
   "source": [
    "# Data Pre-processing"
   ]
  },
  {
   "cell_type": "code",
   "execution_count": 32,
   "metadata": {
    "execution": {
     "iopub.execute_input": "2023-12-12T11:46:35.076707Z",
     "iopub.status.busy": "2023-12-12T11:46:35.076272Z",
     "iopub.status.idle": "2023-12-12T11:46:35.084645Z",
     "shell.execute_reply": "2023-12-12T11:46:35.083401Z",
     "shell.execute_reply.started": "2023-12-12T11:46:35.076675Z"
    }
   },
   "outputs": [],
   "source": [
    "df['Education']=df['Education'].map({'Bachelors':1,'Masters':2,'PHD':3})"
   ]
  },
  {
   "cell_type": "code",
   "execution_count": 33,
   "metadata": {
    "execution": {
     "iopub.execute_input": "2023-12-12T11:46:35.089271Z",
     "iopub.status.busy": "2023-12-12T11:46:35.088855Z",
     "iopub.status.idle": "2023-12-12T11:46:35.103595Z",
     "shell.execute_reply": "2023-12-12T11:46:35.102467Z",
     "shell.execute_reply.started": "2023-12-12T11:46:35.089240Z"
    }
   },
   "outputs": [
    {
     "data": {
      "text/plain": [
       "City\n",
       "Bangalore    2228\n",
       "Pune         1268\n",
       "New Delhi    1157\n",
       "Name: count, dtype: int64"
      ]
     },
     "execution_count": 33,
     "metadata": {},
     "output_type": "execute_result"
    }
   ],
   "source": [
    "df['City'].value_counts()"
   ]
  },
  {
   "cell_type": "code",
   "execution_count": 34,
   "metadata": {
    "execution": {
     "iopub.execute_input": "2023-12-12T11:46:35.105404Z",
     "iopub.status.busy": "2023-12-12T11:46:35.104971Z",
     "iopub.status.idle": "2023-12-12T11:46:35.116707Z",
     "shell.execute_reply": "2023-12-12T11:46:35.115704Z",
     "shell.execute_reply.started": "2023-12-12T11:46:35.105375Z"
    }
   },
   "outputs": [
    {
     "data": {
      "text/plain": [
       "EverBenched\n",
       "No     4175\n",
       "Yes     478\n",
       "Name: count, dtype: int64"
      ]
     },
     "execution_count": 34,
     "metadata": {},
     "output_type": "execute_result"
    }
   ],
   "source": [
    "df['EverBenched'].value_counts()"
   ]
  },
  {
   "cell_type": "code",
   "execution_count": 35,
   "metadata": {
    "execution": {
     "iopub.execute_input": "2023-12-12T11:46:35.119218Z",
     "iopub.status.busy": "2023-12-12T11:46:35.118177Z",
     "iopub.status.idle": "2023-12-12T11:46:35.130376Z",
     "shell.execute_reply": "2023-12-12T11:46:35.129381Z",
     "shell.execute_reply.started": "2023-12-12T11:46:35.119186Z"
    }
   },
   "outputs": [],
   "source": [
    "df['EverBenched']=df['EverBenched'].map({'Yes':1,'No':0})"
   ]
  },
  {
   "cell_type": "code",
   "execution_count": 36,
   "metadata": {
    "execution": {
     "iopub.execute_input": "2023-12-12T11:46:35.132768Z",
     "iopub.status.busy": "2023-12-12T11:46:35.131844Z",
     "iopub.status.idle": "2023-12-12T11:46:35.148705Z",
     "shell.execute_reply": "2023-12-12T11:46:35.147501Z",
     "shell.execute_reply.started": "2023-12-12T11:46:35.132732Z"
    }
   },
   "outputs": [
    {
     "name": "stdout",
     "output_type": "stream",
     "text": [
      "LeaveOrNot     0    1\n",
      "JoiningYear          \n",
      "2012         395  109\n",
      "2013         445  224\n",
      "2014         526  173\n",
      "2015         463  318\n",
      "2016         408  117\n",
      "2017         811  297\n",
      "2018           5  362\n"
     ]
    }
   ],
   "source": [
    "yearly_leave_count = df.groupby(['JoiningYear', 'LeaveOrNot']).size().unstack().fillna(0)\n",
    "\n",
    "# Display the count of LeaveOrNot year-wise\n",
    "print(yearly_leave_count)"
   ]
  },
  {
   "cell_type": "code",
   "execution_count": 37,
   "metadata": {
    "execution": {
     "iopub.execute_input": "2023-12-12T11:46:35.152134Z",
     "iopub.status.busy": "2023-12-12T11:46:35.150389Z",
     "iopub.status.idle": "2023-12-12T11:46:35.166853Z",
     "shell.execute_reply": "2023-12-12T11:46:35.165961Z",
     "shell.execute_reply.started": "2023-12-12T11:46:35.152094Z"
    }
   },
   "outputs": [
    {
     "name": "stdout",
     "output_type": "stream",
     "text": [
      "LeaveOrNot   Percentage_0  Percentage_1\n",
      "JoiningYear                            \n",
      "2012            78.373016     21.626984\n",
      "2013            66.517190     33.482810\n",
      "2014            75.250358     24.749642\n",
      "2015            59.282971     40.717029\n",
      "2016            77.714286     22.285714\n",
      "2017            73.194946     26.805054\n",
      "2018             1.362398     98.637602\n"
     ]
    }
   ],
   "source": [
    "yearly_leave_count = df.groupby(['JoiningYear', 'LeaveOrNot']).size().unstack().fillna(0)\n",
    "\n",
    "# Calculate the percentages of 0 and 1 year-wise\n",
    "yearly_leave_count['Percentage_0'] = (yearly_leave_count[0] / (yearly_leave_count[0] + yearly_leave_count[1])) * 100\n",
    "yearly_leave_count['Percentage_1'] = (yearly_leave_count[1] / (yearly_leave_count[0] + yearly_leave_count[1])) * 100\n",
    "\n",
    "# Display the percentage of 0 and 1 year-wise\n",
    "print(yearly_leave_count[['Percentage_0', 'Percentage_1']])"
   ]
  },
  {
   "cell_type": "code",
   "execution_count": 38,
   "metadata": {
    "execution": {
     "iopub.execute_input": "2023-12-12T11:46:35.168691Z",
     "iopub.status.busy": "2023-12-12T11:46:35.168189Z",
     "iopub.status.idle": "2023-12-12T11:46:35.182462Z",
     "shell.execute_reply": "2023-12-12T11:46:35.181575Z",
     "shell.execute_reply.started": "2023-12-12T11:46:35.168661Z"
    }
   },
   "outputs": [
    {
     "name": "stdout",
     "output_type": "stream",
     "text": [
      "<class 'pandas.core.frame.DataFrame'>\n",
      "RangeIndex: 4653 entries, 0 to 4652\n",
      "Data columns (total 9 columns):\n",
      " #   Column                     Non-Null Count  Dtype \n",
      "---  ------                     --------------  ----- \n",
      " 0   Education                  4653 non-null   int64 \n",
      " 1   JoiningYear                4653 non-null   int64 \n",
      " 2   City                       4653 non-null   object\n",
      " 3   PaymentTier                4653 non-null   int64 \n",
      " 4   Age                        4653 non-null   int64 \n",
      " 5   Gender                     4653 non-null   object\n",
      " 6   EverBenched                4653 non-null   int64 \n",
      " 7   ExperienceInCurrentDomain  4653 non-null   int64 \n",
      " 8   LeaveOrNot                 4653 non-null   int64 \n",
      "dtypes: int64(7), object(2)\n",
      "memory usage: 327.3+ KB\n"
     ]
    }
   ],
   "source": [
    "df.info()"
   ]
  },
  {
   "cell_type": "code",
   "execution_count": 39,
   "metadata": {
    "execution": {
     "iopub.execute_input": "2023-12-12T11:46:35.184147Z",
     "iopub.status.busy": "2023-12-12T11:46:35.183785Z",
     "iopub.status.idle": "2023-12-12T11:46:35.212501Z",
     "shell.execute_reply": "2023-12-12T11:46:35.211570Z",
     "shell.execute_reply.started": "2023-12-12T11:46:35.184117Z"
    }
   },
   "outputs": [
    {
     "data": {
      "text/html": [
       "<div>\n",
       "<style scoped>\n",
       "    .dataframe tbody tr th:only-of-type {\n",
       "        vertical-align: middle;\n",
       "    }\n",
       "\n",
       "    .dataframe tbody tr th {\n",
       "        vertical-align: top;\n",
       "    }\n",
       "\n",
       "    .dataframe thead th {\n",
       "        text-align: right;\n",
       "    }\n",
       "</style>\n",
       "<table border=\"1\" class=\"dataframe\">\n",
       "  <thead>\n",
       "    <tr style=\"text-align: right;\">\n",
       "      <th></th>\n",
       "      <th>Education</th>\n",
       "      <th>JoiningYear</th>\n",
       "      <th>City</th>\n",
       "      <th>PaymentTier</th>\n",
       "      <th>Age</th>\n",
       "      <th>Gender</th>\n",
       "      <th>EverBenched</th>\n",
       "      <th>ExperienceInCurrentDomain</th>\n",
       "      <th>LeaveOrNot</th>\n",
       "    </tr>\n",
       "  </thead>\n",
       "  <tbody>\n",
       "    <tr>\n",
       "      <th>0</th>\n",
       "      <td>1</td>\n",
       "      <td>2017</td>\n",
       "      <td>Bangalore</td>\n",
       "      <td>3</td>\n",
       "      <td>34</td>\n",
       "      <td>Male</td>\n",
       "      <td>0</td>\n",
       "      <td>0</td>\n",
       "      <td>0</td>\n",
       "    </tr>\n",
       "    <tr>\n",
       "      <th>1</th>\n",
       "      <td>1</td>\n",
       "      <td>2013</td>\n",
       "      <td>Pune</td>\n",
       "      <td>1</td>\n",
       "      <td>28</td>\n",
       "      <td>Female</td>\n",
       "      <td>0</td>\n",
       "      <td>3</td>\n",
       "      <td>1</td>\n",
       "    </tr>\n",
       "    <tr>\n",
       "      <th>2</th>\n",
       "      <td>1</td>\n",
       "      <td>2014</td>\n",
       "      <td>New Delhi</td>\n",
       "      <td>3</td>\n",
       "      <td>38</td>\n",
       "      <td>Female</td>\n",
       "      <td>0</td>\n",
       "      <td>2</td>\n",
       "      <td>0</td>\n",
       "    </tr>\n",
       "    <tr>\n",
       "      <th>3</th>\n",
       "      <td>2</td>\n",
       "      <td>2016</td>\n",
       "      <td>Bangalore</td>\n",
       "      <td>3</td>\n",
       "      <td>27</td>\n",
       "      <td>Male</td>\n",
       "      <td>0</td>\n",
       "      <td>5</td>\n",
       "      <td>1</td>\n",
       "    </tr>\n",
       "    <tr>\n",
       "      <th>4</th>\n",
       "      <td>2</td>\n",
       "      <td>2017</td>\n",
       "      <td>Pune</td>\n",
       "      <td>3</td>\n",
       "      <td>24</td>\n",
       "      <td>Male</td>\n",
       "      <td>1</td>\n",
       "      <td>2</td>\n",
       "      <td>1</td>\n",
       "    </tr>\n",
       "    <tr>\n",
       "      <th>...</th>\n",
       "      <td>...</td>\n",
       "      <td>...</td>\n",
       "      <td>...</td>\n",
       "      <td>...</td>\n",
       "      <td>...</td>\n",
       "      <td>...</td>\n",
       "      <td>...</td>\n",
       "      <td>...</td>\n",
       "      <td>...</td>\n",
       "    </tr>\n",
       "    <tr>\n",
       "      <th>4648</th>\n",
       "      <td>1</td>\n",
       "      <td>2013</td>\n",
       "      <td>Bangalore</td>\n",
       "      <td>3</td>\n",
       "      <td>26</td>\n",
       "      <td>Female</td>\n",
       "      <td>0</td>\n",
       "      <td>4</td>\n",
       "      <td>0</td>\n",
       "    </tr>\n",
       "    <tr>\n",
       "      <th>4649</th>\n",
       "      <td>2</td>\n",
       "      <td>2013</td>\n",
       "      <td>Pune</td>\n",
       "      <td>2</td>\n",
       "      <td>37</td>\n",
       "      <td>Male</td>\n",
       "      <td>0</td>\n",
       "      <td>2</td>\n",
       "      <td>1</td>\n",
       "    </tr>\n",
       "    <tr>\n",
       "      <th>4650</th>\n",
       "      <td>2</td>\n",
       "      <td>2018</td>\n",
       "      <td>New Delhi</td>\n",
       "      <td>3</td>\n",
       "      <td>27</td>\n",
       "      <td>Male</td>\n",
       "      <td>0</td>\n",
       "      <td>5</td>\n",
       "      <td>1</td>\n",
       "    </tr>\n",
       "    <tr>\n",
       "      <th>4651</th>\n",
       "      <td>1</td>\n",
       "      <td>2012</td>\n",
       "      <td>Bangalore</td>\n",
       "      <td>3</td>\n",
       "      <td>30</td>\n",
       "      <td>Male</td>\n",
       "      <td>1</td>\n",
       "      <td>2</td>\n",
       "      <td>0</td>\n",
       "    </tr>\n",
       "    <tr>\n",
       "      <th>4652</th>\n",
       "      <td>1</td>\n",
       "      <td>2015</td>\n",
       "      <td>Bangalore</td>\n",
       "      <td>3</td>\n",
       "      <td>33</td>\n",
       "      <td>Male</td>\n",
       "      <td>1</td>\n",
       "      <td>4</td>\n",
       "      <td>0</td>\n",
       "    </tr>\n",
       "  </tbody>\n",
       "</table>\n",
       "<p>4653 rows × 9 columns</p>\n",
       "</div>"
      ],
      "text/plain": [
       "      Education  JoiningYear       City  PaymentTier  Age  Gender  \\\n",
       "0             1         2017  Bangalore            3   34    Male   \n",
       "1             1         2013       Pune            1   28  Female   \n",
       "2             1         2014  New Delhi            3   38  Female   \n",
       "3             2         2016  Bangalore            3   27    Male   \n",
       "4             2         2017       Pune            3   24    Male   \n",
       "...         ...          ...        ...          ...  ...     ...   \n",
       "4648          1         2013  Bangalore            3   26  Female   \n",
       "4649          2         2013       Pune            2   37    Male   \n",
       "4650          2         2018  New Delhi            3   27    Male   \n",
       "4651          1         2012  Bangalore            3   30    Male   \n",
       "4652          1         2015  Bangalore            3   33    Male   \n",
       "\n",
       "      EverBenched  ExperienceInCurrentDomain  LeaveOrNot  \n",
       "0               0                          0           0  \n",
       "1               0                          3           1  \n",
       "2               0                          2           0  \n",
       "3               0                          5           1  \n",
       "4               1                          2           1  \n",
       "...           ...                        ...         ...  \n",
       "4648            0                          4           0  \n",
       "4649            0                          2           1  \n",
       "4650            0                          5           1  \n",
       "4651            1                          2           0  \n",
       "4652            1                          4           0  \n",
       "\n",
       "[4653 rows x 9 columns]"
      ]
     },
     "execution_count": 39,
     "metadata": {},
     "output_type": "execute_result"
    }
   ],
   "source": [
    "df"
   ]
  },
  {
   "cell_type": "code",
   "execution_count": 40,
   "metadata": {
    "execution": {
     "iopub.execute_input": "2023-12-12T11:46:35.214346Z",
     "iopub.status.busy": "2023-12-12T11:46:35.213796Z",
     "iopub.status.idle": "2023-12-12T11:46:35.303266Z",
     "shell.execute_reply": "2023-12-12T11:46:35.302121Z",
     "shell.execute_reply.started": "2023-12-12T11:46:35.214314Z"
    }
   },
   "outputs": [],
   "source": [
    "from sklearn.preprocessing import OneHotEncoder"
   ]
  },
  {
   "cell_type": "code",
   "execution_count": 41,
   "metadata": {
    "execution": {
     "iopub.execute_input": "2023-12-12T11:46:35.305352Z",
     "iopub.status.busy": "2023-12-12T11:46:35.304857Z",
     "iopub.status.idle": "2023-12-12T11:46:35.334346Z",
     "shell.execute_reply": "2023-12-12T11:46:35.333250Z",
     "shell.execute_reply.started": "2023-12-12T11:46:35.305310Z"
    }
   },
   "outputs": [
    {
     "name": "stdout",
     "output_type": "stream",
     "text": [
      "      Education  JoiningYear  PaymentTier  Age  Gender  EverBenched  \\\n",
      "0             1         2017            3   34    Male            0   \n",
      "1             1         2013            1   28  Female            0   \n",
      "2             1         2014            3   38  Female            0   \n",
      "3             2         2016            3   27    Male            0   \n",
      "4             2         2017            3   24    Male            1   \n",
      "...         ...          ...          ...  ...     ...          ...   \n",
      "4648          1         2013            3   26  Female            0   \n",
      "4649          2         2013            2   37    Male            0   \n",
      "4650          2         2018            3   27    Male            0   \n",
      "4651          1         2012            3   30    Male            1   \n",
      "4652          1         2015            3   33    Male            1   \n",
      "\n",
      "      ExperienceInCurrentDomain  LeaveOrNot  City_New Delhi  City_Pune  \n",
      "0                             0           0             0.0        0.0  \n",
      "1                             3           1             0.0        1.0  \n",
      "2                             2           0             1.0        0.0  \n",
      "3                             5           1             0.0        0.0  \n",
      "4                             2           1             0.0        1.0  \n",
      "...                         ...         ...             ...        ...  \n",
      "4648                          4           0             0.0        0.0  \n",
      "4649                          2           1             0.0        1.0  \n",
      "4650                          5           1             1.0        0.0  \n",
      "4651                          2           0             0.0        0.0  \n",
      "4652                          4           0             0.0        0.0  \n",
      "\n",
      "[4653 rows x 10 columns]\n"
     ]
    },
    {
     "name": "stderr",
     "output_type": "stream",
     "text": [
      "/opt/conda/lib/python3.10/site-packages/sklearn/preprocessing/_encoders.py:868: FutureWarning:\n",
      "\n",
      "`sparse` was renamed to `sparse_output` in version 1.2 and will be removed in 1.4. `sparse_output` is ignored unless you leave `sparse` to its default value.\n",
      "\n"
     ]
    }
   ],
   "source": [
    "# Extracting the 'City' column\n",
    "city_data = df[['City']]\n",
    "\n",
    "# Initializing OneHotEncoder\n",
    "ohe = OneHotEncoder(drop='first', sparse=False)\n",
    "\n",
    "# Fit and transform the 'City' column\n",
    "city_encoded = ohe.fit_transform(city_data)\n",
    "\n",
    "# Retrieving column names after encoding\n",
    "encoded_cols = ohe.get_feature_names_out(['City'])\n",
    "\n",
    "# Creating a DataFrame with encoded city columns\n",
    "encoded_city_df = pd.DataFrame(city_encoded, columns=encoded_cols)\n",
    "\n",
    "# Dropping the original 'City' column from the original DataFrame\n",
    "df = df.drop('City', axis=1)\n",
    "\n",
    "# Concatenating the original DataFrame with the encoded city DataFrame\n",
    "df = pd.concat([df, encoded_city_df], axis=1)\n",
    "\n",
    "# Display the updated DataFrame\n",
    "print(df)"
   ]
  },
  {
   "cell_type": "code",
   "execution_count": 42,
   "metadata": {
    "execution": {
     "iopub.execute_input": "2023-12-12T11:46:35.336368Z",
     "iopub.status.busy": "2023-12-12T11:46:35.335853Z",
     "iopub.status.idle": "2023-12-12T11:46:35.363704Z",
     "shell.execute_reply": "2023-12-12T11:46:35.362600Z",
     "shell.execute_reply.started": "2023-12-12T11:46:35.336335Z"
    }
   },
   "outputs": [
    {
     "name": "stdout",
     "output_type": "stream",
     "text": [
      "      Education  JoiningYear  PaymentTier  Age  EverBenched  \\\n",
      "0             1         2017            3   34            0   \n",
      "1             1         2013            1   28            0   \n",
      "2             1         2014            3   38            0   \n",
      "3             2         2016            3   27            0   \n",
      "4             2         2017            3   24            1   \n",
      "...         ...          ...          ...  ...          ...   \n",
      "4648          1         2013            3   26            0   \n",
      "4649          2         2013            2   37            0   \n",
      "4650          2         2018            3   27            0   \n",
      "4651          1         2012            3   30            1   \n",
      "4652          1         2015            3   33            1   \n",
      "\n",
      "      ExperienceInCurrentDomain  LeaveOrNot  City_New Delhi  City_Pune  \\\n",
      "0                             0           0             0.0        0.0   \n",
      "1                             3           1             0.0        1.0   \n",
      "2                             2           0             1.0        0.0   \n",
      "3                             5           1             0.0        0.0   \n",
      "4                             2           1             0.0        1.0   \n",
      "...                         ...         ...             ...        ...   \n",
      "4648                          4           0             0.0        0.0   \n",
      "4649                          2           1             0.0        1.0   \n",
      "4650                          5           1             1.0        0.0   \n",
      "4651                          2           0             0.0        0.0   \n",
      "4652                          4           0             0.0        0.0   \n",
      "\n",
      "      Gender_Male  \n",
      "0             1.0  \n",
      "1             0.0  \n",
      "2             0.0  \n",
      "3             1.0  \n",
      "4             1.0  \n",
      "...           ...  \n",
      "4648          0.0  \n",
      "4649          1.0  \n",
      "4650          1.0  \n",
      "4651          1.0  \n",
      "4652          1.0  \n",
      "\n",
      "[4653 rows x 10 columns]\n"
     ]
    },
    {
     "name": "stderr",
     "output_type": "stream",
     "text": [
      "/opt/conda/lib/python3.10/site-packages/sklearn/preprocessing/_encoders.py:868: FutureWarning:\n",
      "\n",
      "`sparse` was renamed to `sparse_output` in version 1.2 and will be removed in 1.4. `sparse_output` is ignored unless you leave `sparse` to its default value.\n",
      "\n"
     ]
    }
   ],
   "source": [
    "# Extracting the 'City' column\n",
    "gender_data = df[['Gender']]\n",
    "\n",
    "# Initializing OneHotEncoder\n",
    "ohe = OneHotEncoder(drop='first', sparse=False)\n",
    "\n",
    "# Fit and transform the 'City' column\n",
    "gender_encoded = ohe.fit_transform(gender_data)\n",
    "\n",
    "# Retrieving column names after encoding\n",
    "encoded_cols = ohe.get_feature_names_out(['Gender'])\n",
    "\n",
    "# Creating a DataFrame with encoded city columns\n",
    "encoded_gender_df = pd.DataFrame(gender_encoded, columns=encoded_cols)\n",
    "\n",
    "# Dropping the original 'City' column from the original DataFrame\n",
    "df = df.drop('Gender', axis=1)\n",
    "\n",
    "# Concatenating the original DataFrame with the encoded city DataFrame\n",
    "df = pd.concat([df, encoded_gender_df], axis=1)\n",
    "\n",
    "# Display the updated DataFrame\n",
    "print(df)"
   ]
  },
  {
   "cell_type": "code",
   "execution_count": 43,
   "metadata": {
    "execution": {
     "iopub.execute_input": "2023-12-12T11:46:35.366334Z",
     "iopub.status.busy": "2023-12-12T11:46:35.365258Z",
     "iopub.status.idle": "2023-12-12T11:46:35.378531Z",
     "shell.execute_reply": "2023-12-12T11:46:35.377376Z",
     "shell.execute_reply.started": "2023-12-12T11:46:35.366289Z"
    }
   },
   "outputs": [],
   "source": [
    "df['JoiningYear'] = pd.to_datetime(df['JoiningYear'], format='%Y')"
   ]
  },
  {
   "cell_type": "code",
   "execution_count": 44,
   "metadata": {
    "execution": {
     "iopub.execute_input": "2023-12-12T11:46:35.380345Z",
     "iopub.status.busy": "2023-12-12T11:46:35.379944Z",
     "iopub.status.idle": "2023-12-12T11:46:35.404993Z",
     "shell.execute_reply": "2023-12-12T11:46:35.403781Z",
     "shell.execute_reply.started": "2023-12-12T11:46:35.380313Z"
    }
   },
   "outputs": [
    {
     "data": {
      "text/html": [
       "<div>\n",
       "<style scoped>\n",
       "    .dataframe tbody tr th:only-of-type {\n",
       "        vertical-align: middle;\n",
       "    }\n",
       "\n",
       "    .dataframe tbody tr th {\n",
       "        vertical-align: top;\n",
       "    }\n",
       "\n",
       "    .dataframe thead th {\n",
       "        text-align: right;\n",
       "    }\n",
       "</style>\n",
       "<table border=\"1\" class=\"dataframe\">\n",
       "  <thead>\n",
       "    <tr style=\"text-align: right;\">\n",
       "      <th></th>\n",
       "      <th>Education</th>\n",
       "      <th>JoiningYear</th>\n",
       "      <th>PaymentTier</th>\n",
       "      <th>Age</th>\n",
       "      <th>EverBenched</th>\n",
       "      <th>ExperienceInCurrentDomain</th>\n",
       "      <th>LeaveOrNot</th>\n",
       "      <th>City_New Delhi</th>\n",
       "      <th>City_Pune</th>\n",
       "      <th>Gender_Male</th>\n",
       "    </tr>\n",
       "  </thead>\n",
       "  <tbody>\n",
       "    <tr>\n",
       "      <th>Education</th>\n",
       "      <td>1.000000</td>\n",
       "      <td>0.142718</td>\n",
       "      <td>-0.140741</td>\n",
       "      <td>-0.010611</td>\n",
       "      <td>-0.052249</td>\n",
       "      <td>-0.004463</td>\n",
       "      <td>0.080497</td>\n",
       "      <td>0.397825</td>\n",
       "      <td>-0.051377</td>\n",
       "      <td>-0.010889</td>\n",
       "    </tr>\n",
       "    <tr>\n",
       "      <th>JoiningYear</th>\n",
       "      <td>0.142718</td>\n",
       "      <td>1.000000</td>\n",
       "      <td>-0.096125</td>\n",
       "      <td>0.013153</td>\n",
       "      <td>0.049344</td>\n",
       "      <td>-0.036517</td>\n",
       "      <td>0.181702</td>\n",
       "      <td>0.141796</td>\n",
       "      <td>-0.020174</td>\n",
       "      <td>-0.012207</td>\n",
       "    </tr>\n",
       "    <tr>\n",
       "      <th>PaymentTier</th>\n",
       "      <td>-0.140741</td>\n",
       "      <td>-0.096125</td>\n",
       "      <td>1.000000</td>\n",
       "      <td>0.007631</td>\n",
       "      <td>0.019207</td>\n",
       "      <td>0.018314</td>\n",
       "      <td>-0.197638</td>\n",
       "      <td>-0.102642</td>\n",
       "      <td>-0.229910</td>\n",
       "      <td>0.235119</td>\n",
       "    </tr>\n",
       "    <tr>\n",
       "      <th>Age</th>\n",
       "      <td>-0.010611</td>\n",
       "      <td>0.013153</td>\n",
       "      <td>0.007631</td>\n",
       "      <td>1.000000</td>\n",
       "      <td>-0.016135</td>\n",
       "      <td>-0.134643</td>\n",
       "      <td>-0.051126</td>\n",
       "      <td>-0.032461</td>\n",
       "      <td>-0.013273</td>\n",
       "      <td>-0.003866</td>\n",
       "    </tr>\n",
       "    <tr>\n",
       "      <th>EverBenched</th>\n",
       "      <td>-0.052249</td>\n",
       "      <td>0.049344</td>\n",
       "      <td>0.019207</td>\n",
       "      <td>-0.016135</td>\n",
       "      <td>1.000000</td>\n",
       "      <td>0.001408</td>\n",
       "      <td>0.078438</td>\n",
       "      <td>-0.029246</td>\n",
       "      <td>0.007534</td>\n",
       "      <td>0.019653</td>\n",
       "    </tr>\n",
       "    <tr>\n",
       "      <th>ExperienceInCurrentDomain</th>\n",
       "      <td>-0.004463</td>\n",
       "      <td>-0.036517</td>\n",
       "      <td>0.018314</td>\n",
       "      <td>-0.134643</td>\n",
       "      <td>0.001408</td>\n",
       "      <td>1.000000</td>\n",
       "      <td>-0.030504</td>\n",
       "      <td>-0.007608</td>\n",
       "      <td>-0.005690</td>\n",
       "      <td>0.008745</td>\n",
       "    </tr>\n",
       "    <tr>\n",
       "      <th>LeaveOrNot</th>\n",
       "      <td>0.080497</td>\n",
       "      <td>0.181702</td>\n",
       "      <td>-0.197638</td>\n",
       "      <td>-0.051126</td>\n",
       "      <td>0.078438</td>\n",
       "      <td>-0.030504</td>\n",
       "      <td>1.000000</td>\n",
       "      <td>-0.033341</td>\n",
       "      <td>0.206264</td>\n",
       "      <td>-0.220701</td>\n",
       "    </tr>\n",
       "    <tr>\n",
       "      <th>City_New Delhi</th>\n",
       "      <td>0.397825</td>\n",
       "      <td>0.141796</td>\n",
       "      <td>-0.102642</td>\n",
       "      <td>-0.032461</td>\n",
       "      <td>-0.029246</td>\n",
       "      <td>-0.007608</td>\n",
       "      <td>-0.033341</td>\n",
       "      <td>1.000000</td>\n",
       "      <td>-0.352096</td>\n",
       "      <td>-0.155877</td>\n",
       "    </tr>\n",
       "    <tr>\n",
       "      <th>City_Pune</th>\n",
       "      <td>-0.051377</td>\n",
       "      <td>-0.020174</td>\n",
       "      <td>-0.229910</td>\n",
       "      <td>-0.013273</td>\n",
       "      <td>0.007534</td>\n",
       "      <td>-0.005690</td>\n",
       "      <td>0.206264</td>\n",
       "      <td>-0.352096</td>\n",
       "      <td>1.000000</td>\n",
       "      <td>-0.083685</td>\n",
       "    </tr>\n",
       "    <tr>\n",
       "      <th>Gender_Male</th>\n",
       "      <td>-0.010889</td>\n",
       "      <td>-0.012207</td>\n",
       "      <td>0.235119</td>\n",
       "      <td>-0.003866</td>\n",
       "      <td>0.019653</td>\n",
       "      <td>0.008745</td>\n",
       "      <td>-0.220701</td>\n",
       "      <td>-0.155877</td>\n",
       "      <td>-0.083685</td>\n",
       "      <td>1.000000</td>\n",
       "    </tr>\n",
       "  </tbody>\n",
       "</table>\n",
       "</div>"
      ],
      "text/plain": [
       "                           Education  JoiningYear  PaymentTier       Age  \\\n",
       "Education                   1.000000     0.142718    -0.140741 -0.010611   \n",
       "JoiningYear                 0.142718     1.000000    -0.096125  0.013153   \n",
       "PaymentTier                -0.140741    -0.096125     1.000000  0.007631   \n",
       "Age                        -0.010611     0.013153     0.007631  1.000000   \n",
       "EverBenched                -0.052249     0.049344     0.019207 -0.016135   \n",
       "ExperienceInCurrentDomain  -0.004463    -0.036517     0.018314 -0.134643   \n",
       "LeaveOrNot                  0.080497     0.181702    -0.197638 -0.051126   \n",
       "City_New Delhi              0.397825     0.141796    -0.102642 -0.032461   \n",
       "City_Pune                  -0.051377    -0.020174    -0.229910 -0.013273   \n",
       "Gender_Male                -0.010889    -0.012207     0.235119 -0.003866   \n",
       "\n",
       "                           EverBenched  ExperienceInCurrentDomain  LeaveOrNot  \\\n",
       "Education                    -0.052249                  -0.004463    0.080497   \n",
       "JoiningYear                   0.049344                  -0.036517    0.181702   \n",
       "PaymentTier                   0.019207                   0.018314   -0.197638   \n",
       "Age                          -0.016135                  -0.134643   -0.051126   \n",
       "EverBenched                   1.000000                   0.001408    0.078438   \n",
       "ExperienceInCurrentDomain     0.001408                   1.000000   -0.030504   \n",
       "LeaveOrNot                    0.078438                  -0.030504    1.000000   \n",
       "City_New Delhi               -0.029246                  -0.007608   -0.033341   \n",
       "City_Pune                     0.007534                  -0.005690    0.206264   \n",
       "Gender_Male                   0.019653                   0.008745   -0.220701   \n",
       "\n",
       "                           City_New Delhi  City_Pune  Gender_Male  \n",
       "Education                        0.397825  -0.051377    -0.010889  \n",
       "JoiningYear                      0.141796  -0.020174    -0.012207  \n",
       "PaymentTier                     -0.102642  -0.229910     0.235119  \n",
       "Age                             -0.032461  -0.013273    -0.003866  \n",
       "EverBenched                     -0.029246   0.007534     0.019653  \n",
       "ExperienceInCurrentDomain       -0.007608  -0.005690     0.008745  \n",
       "LeaveOrNot                      -0.033341   0.206264    -0.220701  \n",
       "City_New Delhi                   1.000000  -0.352096    -0.155877  \n",
       "City_Pune                       -0.352096   1.000000    -0.083685  \n",
       "Gender_Male                     -0.155877  -0.083685     1.000000  "
      ]
     },
     "execution_count": 44,
     "metadata": {},
     "output_type": "execute_result"
    }
   ],
   "source": [
    "df.corr()"
   ]
  },
  {
   "cell_type": "code",
   "execution_count": 45,
   "metadata": {
    "execution": {
     "iopub.execute_input": "2023-12-12T11:46:35.406821Z",
     "iopub.status.busy": "2023-12-12T11:46:35.406481Z",
     "iopub.status.idle": "2023-12-12T11:46:36.249371Z",
     "shell.execute_reply": "2023-12-12T11:46:36.248241Z",
     "shell.execute_reply.started": "2023-12-12T11:46:35.406793Z"
    }
   },
   "outputs": [
    {
     "data": {
      "image/png": "[encoded data removed]",
      "text/plain": [
       "<Figure size 800x600 with 2 Axes>"
      ]
     },
     "metadata": {},
     "output_type": "display_data"
    }
   ],
   "source": [
    "correlation_matrix = df.corr()\n",
    "\n",
    "# Create a heatmap\n",
    "plt.figure(figsize=(8, 6))\n",
    "sns.heatmap(correlation_matrix, annot=True, cmap='coolwarm', fmt='.2f')\n",
    "plt.title('Correlation Heatmap')\n",
    "plt.show()"
   ]
  },
  {
   "cell_type": "code",
   "execution_count": 46,
   "metadata": {
    "execution": {
     "iopub.execute_input": "2023-12-12T11:46:36.251672Z",
     "iopub.status.busy": "2023-12-12T11:46:36.250992Z",
     "iopub.status.idle": "2023-12-12T11:46:36.256215Z",
     "shell.execute_reply": "2023-12-12T11:46:36.255080Z",
     "shell.execute_reply.started": "2023-12-12T11:46:36.251638Z"
    }
   },
   "outputs": [],
   "source": [
    "#From heatmap, it can observed that Joining Year, PaymentTier,City and Gender are important features to decide whether employee will leave or not.\n"
   ]
  },
  {
   "cell_type": "code",
   "execution_count": 47,
   "metadata": {
    "execution": {
     "iopub.execute_input": "2023-12-12T11:46:36.258165Z",
     "iopub.status.busy": "2023-12-12T11:46:36.257773Z",
     "iopub.status.idle": "2023-12-12T11:46:36.285367Z",
     "shell.execute_reply": "2023-12-12T11:46:36.283996Z",
     "shell.execute_reply.started": "2023-12-12T11:46:36.258134Z"
    }
   },
   "outputs": [
    {
     "data": {
      "text/html": [
       "<div>\n",
       "<style scoped>\n",
       "    .dataframe tbody tr th:only-of-type {\n",
       "        vertical-align: middle;\n",
       "    }\n",
       "\n",
       "    .dataframe tbody tr th {\n",
       "        vertical-align: top;\n",
       "    }\n",
       "\n",
       "    .dataframe thead th {\n",
       "        text-align: right;\n",
       "    }\n",
       "</style>\n",
       "<table border=\"1\" class=\"dataframe\">\n",
       "  <thead>\n",
       "    <tr style=\"text-align: right;\">\n",
       "      <th></th>\n",
       "      <th>Education</th>\n",
       "      <th>JoiningYear</th>\n",
       "      <th>PaymentTier</th>\n",
       "      <th>Age</th>\n",
       "      <th>EverBenched</th>\n",
       "      <th>ExperienceInCurrentDomain</th>\n",
       "      <th>LeaveOrNot</th>\n",
       "      <th>City_New Delhi</th>\n",
       "      <th>City_Pune</th>\n",
       "      <th>Gender_Male</th>\n",
       "    </tr>\n",
       "  </thead>\n",
       "  <tbody>\n",
       "    <tr>\n",
       "      <th>0</th>\n",
       "      <td>1</td>\n",
       "      <td>2017-01-01</td>\n",
       "      <td>3</td>\n",
       "      <td>34</td>\n",
       "      <td>0</td>\n",
       "      <td>0</td>\n",
       "      <td>0</td>\n",
       "      <td>0.0</td>\n",
       "      <td>0.0</td>\n",
       "      <td>1.0</td>\n",
       "    </tr>\n",
       "    <tr>\n",
       "      <th>1</th>\n",
       "      <td>1</td>\n",
       "      <td>2013-01-01</td>\n",
       "      <td>1</td>\n",
       "      <td>28</td>\n",
       "      <td>0</td>\n",
       "      <td>3</td>\n",
       "      <td>1</td>\n",
       "      <td>0.0</td>\n",
       "      <td>1.0</td>\n",
       "      <td>0.0</td>\n",
       "    </tr>\n",
       "    <tr>\n",
       "      <th>2</th>\n",
       "      <td>1</td>\n",
       "      <td>2014-01-01</td>\n",
       "      <td>3</td>\n",
       "      <td>38</td>\n",
       "      <td>0</td>\n",
       "      <td>2</td>\n",
       "      <td>0</td>\n",
       "      <td>1.0</td>\n",
       "      <td>0.0</td>\n",
       "      <td>0.0</td>\n",
       "    </tr>\n",
       "    <tr>\n",
       "      <th>3</th>\n",
       "      <td>2</td>\n",
       "      <td>2016-01-01</td>\n",
       "      <td>3</td>\n",
       "      <td>27</td>\n",
       "      <td>0</td>\n",
       "      <td>5</td>\n",
       "      <td>1</td>\n",
       "      <td>0.0</td>\n",
       "      <td>0.0</td>\n",
       "      <td>1.0</td>\n",
       "    </tr>\n",
       "    <tr>\n",
       "      <th>4</th>\n",
       "      <td>2</td>\n",
       "      <td>2017-01-01</td>\n",
       "      <td>3</td>\n",
       "      <td>24</td>\n",
       "      <td>1</td>\n",
       "      <td>2</td>\n",
       "      <td>1</td>\n",
       "      <td>0.0</td>\n",
       "      <td>1.0</td>\n",
       "      <td>1.0</td>\n",
       "    </tr>\n",
       "  </tbody>\n",
       "</table>\n",
       "</div>"
      ],
      "text/plain": [
       "   Education JoiningYear  PaymentTier  Age  EverBenched  \\\n",
       "0          1  2017-01-01            3   34            0   \n",
       "1          1  2013-01-01            1   28            0   \n",
       "2          1  2014-01-01            3   38            0   \n",
       "3          2  2016-01-01            3   27            0   \n",
       "4          2  2017-01-01            3   24            1   \n",
       "\n",
       "   ExperienceInCurrentDomain  LeaveOrNot  City_New Delhi  City_Pune  \\\n",
       "0                          0           0             0.0        0.0   \n",
       "1                          3           1             0.0        1.0   \n",
       "2                          2           0             1.0        0.0   \n",
       "3                          5           1             0.0        0.0   \n",
       "4                          2           1             0.0        1.0   \n",
       "\n",
       "   Gender_Male  \n",
       "0          1.0  \n",
       "1          0.0  \n",
       "2          0.0  \n",
       "3          1.0  \n",
       "4          1.0  "
      ]
     },
     "execution_count": 47,
     "metadata": {},
     "output_type": "execute_result"
    }
   ],
   "source": [
    "df.head()"
   ]
  },
  {
   "cell_type": "code",
   "execution_count": 48,
   "metadata": {
    "execution": {
     "iopub.execute_input": "2023-12-12T11:46:36.288806Z",
     "iopub.status.busy": "2023-12-12T11:46:36.288034Z",
     "iopub.status.idle": "2023-12-12T11:46:36.296075Z",
     "shell.execute_reply": "2023-12-12T11:46:36.294793Z",
     "shell.execute_reply.started": "2023-12-12T11:46:36.288768Z"
    }
   },
   "outputs": [],
   "source": [
    "desired_columns_order = [\n",
    "    'Education', 'JoiningYear', 'PaymentTier', 'Age', 'EverBenched', 'ExperienceInCurrentDomain','Gender_Male',\n",
    "     'City_New Delhi', 'City_Pune','LeaveOrNot']\n",
    "df = df[desired_columns_order]"
   ]
  },
  {
   "cell_type": "code",
   "execution_count": 49,
   "metadata": {
    "execution": {
     "iopub.execute_input": "2023-12-12T11:46:36.298392Z",
     "iopub.status.busy": "2023-12-12T11:46:36.297726Z",
     "iopub.status.idle": "2023-12-12T11:46:36.326073Z",
     "shell.execute_reply": "2023-12-12T11:46:36.324723Z",
     "shell.execute_reply.started": "2023-12-12T11:46:36.298356Z"
    }
   },
   "outputs": [
    {
     "data": {
      "text/html": [
       "<div>\n",
       "<style scoped>\n",
       "    .dataframe tbody tr th:only-of-type {\n",
       "        vertical-align: middle;\n",
       "    }\n",
       "\n",
       "    .dataframe tbody tr th {\n",
       "        vertical-align: top;\n",
       "    }\n",
       "\n",
       "    .dataframe thead th {\n",
       "        text-align: right;\n",
       "    }\n",
       "</style>\n",
       "<table border=\"1\" class=\"dataframe\">\n",
       "  <thead>\n",
       "    <tr style=\"text-align: right;\">\n",
       "      <th></th>\n",
       "      <th>Education</th>\n",
       "      <th>JoiningYear</th>\n",
       "      <th>PaymentTier</th>\n",
       "      <th>Age</th>\n",
       "      <th>EverBenched</th>\n",
       "      <th>ExperienceInCurrentDomain</th>\n",
       "      <th>Gender_Male</th>\n",
       "      <th>City_New Delhi</th>\n",
       "      <th>City_Pune</th>\n",
       "      <th>LeaveOrNot</th>\n",
       "    </tr>\n",
       "  </thead>\n",
       "  <tbody>\n",
       "    <tr>\n",
       "      <th>0</th>\n",
       "      <td>1</td>\n",
       "      <td>2017-01-01</td>\n",
       "      <td>3</td>\n",
       "      <td>34</td>\n",
       "      <td>0</td>\n",
       "      <td>0</td>\n",
       "      <td>1.0</td>\n",
       "      <td>0.0</td>\n",
       "      <td>0.0</td>\n",
       "      <td>0</td>\n",
       "    </tr>\n",
       "    <tr>\n",
       "      <th>1</th>\n",
       "      <td>1</td>\n",
       "      <td>2013-01-01</td>\n",
       "      <td>1</td>\n",
       "      <td>28</td>\n",
       "      <td>0</td>\n",
       "      <td>3</td>\n",
       "      <td>0.0</td>\n",
       "      <td>0.0</td>\n",
       "      <td>1.0</td>\n",
       "      <td>1</td>\n",
       "    </tr>\n",
       "    <tr>\n",
       "      <th>2</th>\n",
       "      <td>1</td>\n",
       "      <td>2014-01-01</td>\n",
       "      <td>3</td>\n",
       "      <td>38</td>\n",
       "      <td>0</td>\n",
       "      <td>2</td>\n",
       "      <td>0.0</td>\n",
       "      <td>1.0</td>\n",
       "      <td>0.0</td>\n",
       "      <td>0</td>\n",
       "    </tr>\n",
       "    <tr>\n",
       "      <th>3</th>\n",
       "      <td>2</td>\n",
       "      <td>2016-01-01</td>\n",
       "      <td>3</td>\n",
       "      <td>27</td>\n",
       "      <td>0</td>\n",
       "      <td>5</td>\n",
       "      <td>1.0</td>\n",
       "      <td>0.0</td>\n",
       "      <td>0.0</td>\n",
       "      <td>1</td>\n",
       "    </tr>\n",
       "    <tr>\n",
       "      <th>4</th>\n",
       "      <td>2</td>\n",
       "      <td>2017-01-01</td>\n",
       "      <td>3</td>\n",
       "      <td>24</td>\n",
       "      <td>1</td>\n",
       "      <td>2</td>\n",
       "      <td>1.0</td>\n",
       "      <td>0.0</td>\n",
       "      <td>1.0</td>\n",
       "      <td>1</td>\n",
       "    </tr>\n",
       "  </tbody>\n",
       "</table>\n",
       "</div>"
      ],
      "text/plain": [
       "   Education JoiningYear  PaymentTier  Age  EverBenched  \\\n",
       "0          1  2017-01-01            3   34            0   \n",
       "1          1  2013-01-01            1   28            0   \n",
       "2          1  2014-01-01            3   38            0   \n",
       "3          2  2016-01-01            3   27            0   \n",
       "4          2  2017-01-01            3   24            1   \n",
       "\n",
       "   ExperienceInCurrentDomain  Gender_Male  City_New Delhi  City_Pune  \\\n",
       "0                          0          1.0             0.0        0.0   \n",
       "1                          3          0.0             0.0        1.0   \n",
       "2                          2          0.0             1.0        0.0   \n",
       "3                          5          1.0             0.0        0.0   \n",
       "4                          2          1.0             0.0        1.0   \n",
       "\n",
       "   LeaveOrNot  \n",
       "0           0  \n",
       "1           1  \n",
       "2           0  \n",
       "3           1  \n",
       "4           1  "
      ]
     },
     "execution_count": 49,
     "metadata": {},
     "output_type": "execute_result"
    }
   ],
   "source": [
    "df.head()"
   ]
  },
  {
   "cell_type": "code",
   "execution_count": 50,
   "metadata": {
    "execution": {
     "iopub.execute_input": "2023-12-12T11:46:36.328016Z",
     "iopub.status.busy": "2023-12-12T11:46:36.327488Z",
     "iopub.status.idle": "2023-12-12T11:46:36.464681Z",
     "shell.execute_reply": "2023-12-12T11:46:36.463494Z",
     "shell.execute_reply.started": "2023-12-12T11:46:36.327887Z"
    }
   },
   "outputs": [],
   "source": [
    "from sklearn.model_selection import train_test_split\n"
   ]
  },
  {
   "cell_type": "code",
   "execution_count": 51,
   "metadata": {
    "execution": {
     "iopub.execute_input": "2023-12-12T11:46:36.466772Z",
     "iopub.status.busy": "2023-12-12T11:46:36.466391Z",
     "iopub.status.idle": "2023-12-12T11:46:36.482596Z",
     "shell.execute_reply": "2023-12-12T11:46:36.481332Z",
     "shell.execute_reply.started": "2023-12-12T11:46:36.466740Z"
    }
   },
   "outputs": [],
   "source": [
    "X = df.drop(['LeaveOrNot'], axis=1)\n",
    "y = df[\"LeaveOrNot\"]\n",
    "X_train, X_test, y_train, y_test = train_test_split(X, y, test_size=0.2, random_state=42,stratify=y)"
   ]
  },
  {
   "cell_type": "code",
   "execution_count": 52,
   "metadata": {
    "execution": {
     "iopub.execute_input": "2023-12-12T11:46:36.484548Z",
     "iopub.status.busy": "2023-12-12T11:46:36.484070Z",
     "iopub.status.idle": "2023-12-12T11:46:36.495444Z",
     "shell.execute_reply": "2023-12-12T11:46:36.494140Z",
     "shell.execute_reply.started": "2023-12-12T11:46:36.484478Z"
    }
   },
   "outputs": [
    {
     "name": "stdout",
     "output_type": "stream",
     "text": [
      "Training set - Class distribution:\n",
      "LeaveOrNot\n",
      "0    0.656099\n",
      "1    0.343901\n",
      "Name: proportion, dtype: float64\n",
      "\n",
      "Testing set - Class distribution:\n",
      "LeaveOrNot\n",
      "0    0.656284\n",
      "1    0.343716\n",
      "Name: proportion, dtype: float64\n"
     ]
    }
   ],
   "source": [
    "print(\"Training set - Class distribution:\")\n",
    "print(y_train.value_counts(normalize=True))\n",
    "\n",
    "print(\"\\nTesting set - Class distribution:\")\n",
    "print(y_test.value_counts(normalize=True))"
   ]
  },
  {
   "cell_type": "code",
   "execution_count": 53,
   "metadata": {
    "execution": {
     "iopub.execute_input": "2023-12-12T11:46:36.507687Z",
     "iopub.status.busy": "2023-12-12T11:46:36.506566Z",
     "iopub.status.idle": "2023-12-12T11:46:36.512351Z",
     "shell.execute_reply": "2023-12-12T11:46:36.511445Z",
     "shell.execute_reply.started": "2023-12-12T11:46:36.507641Z"
    }
   },
   "outputs": [],
   "source": [
    "from sklearn.preprocessing import MinMaxScaler"
   ]
  },
  {
   "cell_type": "code",
   "execution_count": 54,
   "metadata": {
    "execution": {
     "iopub.execute_input": "2023-12-12T11:46:36.514433Z",
     "iopub.status.busy": "2023-12-12T11:46:36.513821Z",
     "iopub.status.idle": "2023-12-12T11:46:36.544501Z",
     "shell.execute_reply": "2023-12-12T11:46:36.543376Z",
     "shell.execute_reply.started": "2023-12-12T11:46:36.514401Z"
    }
   },
   "outputs": [
    {
     "data": {
      "text/html": [
       "<div>\n",
       "<style scoped>\n",
       "    .dataframe tbody tr th:only-of-type {\n",
       "        vertical-align: middle;\n",
       "    }\n",
       "\n",
       "    .dataframe tbody tr th {\n",
       "        vertical-align: top;\n",
       "    }\n",
       "\n",
       "    .dataframe thead th {\n",
       "        text-align: right;\n",
       "    }\n",
       "</style>\n",
       "<table border=\"1\" class=\"dataframe\">\n",
       "  <thead>\n",
       "    <tr style=\"text-align: right;\">\n",
       "      <th></th>\n",
       "      <th>Education</th>\n",
       "      <th>JoiningYear</th>\n",
       "      <th>PaymentTier</th>\n",
       "      <th>Age</th>\n",
       "      <th>EverBenched</th>\n",
       "      <th>ExperienceInCurrentDomain</th>\n",
       "      <th>Gender_Male</th>\n",
       "      <th>City_New Delhi</th>\n",
       "      <th>City_Pune</th>\n",
       "    </tr>\n",
       "  </thead>\n",
       "  <tbody>\n",
       "    <tr>\n",
       "      <th>4097</th>\n",
       "      <td>1</td>\n",
       "      <td>2012-01-01</td>\n",
       "      <td>3</td>\n",
       "      <td>38</td>\n",
       "      <td>0</td>\n",
       "      <td>1</td>\n",
       "      <td>0.0</td>\n",
       "      <td>1.0</td>\n",
       "      <td>0.0</td>\n",
       "    </tr>\n",
       "    <tr>\n",
       "      <th>1694</th>\n",
       "      <td>1</td>\n",
       "      <td>2018-01-01</td>\n",
       "      <td>3</td>\n",
       "      <td>26</td>\n",
       "      <td>0</td>\n",
       "      <td>4</td>\n",
       "      <td>1.0</td>\n",
       "      <td>0.0</td>\n",
       "      <td>0.0</td>\n",
       "    </tr>\n",
       "    <tr>\n",
       "      <th>2659</th>\n",
       "      <td>1</td>\n",
       "      <td>2016-01-01</td>\n",
       "      <td>3</td>\n",
       "      <td>27</td>\n",
       "      <td>0</td>\n",
       "      <td>5</td>\n",
       "      <td>1.0</td>\n",
       "      <td>0.0</td>\n",
       "      <td>1.0</td>\n",
       "    </tr>\n",
       "    <tr>\n",
       "      <th>3860</th>\n",
       "      <td>1</td>\n",
       "      <td>2016-01-01</td>\n",
       "      <td>3</td>\n",
       "      <td>36</td>\n",
       "      <td>0</td>\n",
       "      <td>4</td>\n",
       "      <td>1.0</td>\n",
       "      <td>0.0</td>\n",
       "      <td>0.0</td>\n",
       "    </tr>\n",
       "    <tr>\n",
       "      <th>1250</th>\n",
       "      <td>1</td>\n",
       "      <td>2017-01-01</td>\n",
       "      <td>3</td>\n",
       "      <td>27</td>\n",
       "      <td>1</td>\n",
       "      <td>5</td>\n",
       "      <td>1.0</td>\n",
       "      <td>0.0</td>\n",
       "      <td>0.0</td>\n",
       "    </tr>\n",
       "    <tr>\n",
       "      <th>...</th>\n",
       "      <td>...</td>\n",
       "      <td>...</td>\n",
       "      <td>...</td>\n",
       "      <td>...</td>\n",
       "      <td>...</td>\n",
       "      <td>...</td>\n",
       "      <td>...</td>\n",
       "      <td>...</td>\n",
       "      <td>...</td>\n",
       "    </tr>\n",
       "    <tr>\n",
       "      <th>2699</th>\n",
       "      <td>2</td>\n",
       "      <td>2017-01-01</td>\n",
       "      <td>3</td>\n",
       "      <td>27</td>\n",
       "      <td>0</td>\n",
       "      <td>5</td>\n",
       "      <td>1.0</td>\n",
       "      <td>1.0</td>\n",
       "      <td>0.0</td>\n",
       "    </tr>\n",
       "    <tr>\n",
       "      <th>1847</th>\n",
       "      <td>1</td>\n",
       "      <td>2016-01-01</td>\n",
       "      <td>3</td>\n",
       "      <td>26</td>\n",
       "      <td>1</td>\n",
       "      <td>4</td>\n",
       "      <td>1.0</td>\n",
       "      <td>0.0</td>\n",
       "      <td>0.0</td>\n",
       "    </tr>\n",
       "    <tr>\n",
       "      <th>2955</th>\n",
       "      <td>2</td>\n",
       "      <td>2015-01-01</td>\n",
       "      <td>3</td>\n",
       "      <td>26</td>\n",
       "      <td>0</td>\n",
       "      <td>4</td>\n",
       "      <td>1.0</td>\n",
       "      <td>0.0</td>\n",
       "      <td>1.0</td>\n",
       "    </tr>\n",
       "    <tr>\n",
       "      <th>2148</th>\n",
       "      <td>1</td>\n",
       "      <td>2014-01-01</td>\n",
       "      <td>3</td>\n",
       "      <td>26</td>\n",
       "      <td>0</td>\n",
       "      <td>4</td>\n",
       "      <td>1.0</td>\n",
       "      <td>0.0</td>\n",
       "      <td>0.0</td>\n",
       "    </tr>\n",
       "    <tr>\n",
       "      <th>4150</th>\n",
       "      <td>1</td>\n",
       "      <td>2015-01-01</td>\n",
       "      <td>3</td>\n",
       "      <td>26</td>\n",
       "      <td>0</td>\n",
       "      <td>4</td>\n",
       "      <td>1.0</td>\n",
       "      <td>0.0</td>\n",
       "      <td>0.0</td>\n",
       "    </tr>\n",
       "  </tbody>\n",
       "</table>\n",
       "<p>3722 rows × 9 columns</p>\n",
       "</div>"
      ],
      "text/plain": [
       "      Education JoiningYear  PaymentTier  Age  EverBenched  \\\n",
       "4097          1  2012-01-01            3   38            0   \n",
       "1694          1  2018-01-01            3   26            0   \n",
       "2659          1  2016-01-01            3   27            0   \n",
       "3860          1  2016-01-01            3   36            0   \n",
       "1250          1  2017-01-01            3   27            1   \n",
       "...         ...         ...          ...  ...          ...   \n",
       "2699          2  2017-01-01            3   27            0   \n",
       "1847          1  2016-01-01            3   26            1   \n",
       "2955          2  2015-01-01            3   26            0   \n",
       "2148          1  2014-01-01            3   26            0   \n",
       "4150          1  2015-01-01            3   26            0   \n",
       "\n",
       "      ExperienceInCurrentDomain  Gender_Male  City_New Delhi  City_Pune  \n",
       "4097                          1          0.0             1.0        0.0  \n",
       "1694                          4          1.0             0.0        0.0  \n",
       "2659                          5          1.0             0.0        1.0  \n",
       "3860                          4          1.0             0.0        0.0  \n",
       "1250                          5          1.0             0.0        0.0  \n",
       "...                         ...          ...             ...        ...  \n",
       "2699                          5          1.0             1.0        0.0  \n",
       "1847                          4          1.0             0.0        0.0  \n",
       "2955                          4          1.0             0.0        1.0  \n",
       "2148                          4          1.0             0.0        0.0  \n",
       "4150                          4          1.0             0.0        0.0  \n",
       "\n",
       "[3722 rows x 9 columns]"
      ]
     },
     "execution_count": 54,
     "metadata": {},
     "output_type": "execute_result"
    }
   ],
   "source": [
    "X_train"
   ]
  },
  {
   "cell_type": "code",
   "execution_count": 55,
   "metadata": {
    "execution": {
     "iopub.execute_input": "2023-12-12T11:46:36.546247Z",
     "iopub.status.busy": "2023-12-12T11:46:36.545873Z",
     "iopub.status.idle": "2023-12-12T11:46:36.554305Z",
     "shell.execute_reply": "2023-12-12T11:46:36.553213Z",
     "shell.execute_reply.started": "2023-12-12T11:46:36.546217Z"
    }
   },
   "outputs": [],
   "source": [
    "X_train['JoiningYear'] = X_train['JoiningYear'].dt.year\n",
    "X_test['JoiningYear'] = X_test['JoiningYear'].dt.year"
   ]
  },
  {
   "cell_type": "code",
   "execution_count": 56,
   "metadata": {
    "execution": {
     "iopub.execute_input": "2023-12-12T11:46:36.555828Z",
     "iopub.status.busy": "2023-12-12T11:46:36.555443Z",
     "iopub.status.idle": "2023-12-12T11:46:36.588555Z",
     "shell.execute_reply": "2023-12-12T11:46:36.587194Z",
     "shell.execute_reply.started": "2023-12-12T11:46:36.555789Z"
    }
   },
   "outputs": [
    {
     "name": "stdout",
     "output_type": "stream",
     "text": [
      "Scaled Training Data:\n",
      "      Education  JoiningYear  PaymentTier       Age  EverBenched  \\\n",
      "4097          1     0.000000            3  0.842105            0   \n",
      "1694          1     1.000000            3  0.210526            0   \n",
      "2659          1     0.666667            3  0.263158            0   \n",
      "3860          1     0.666667            3  0.736842            0   \n",
      "1250          1     0.833333            3  0.263158            1   \n",
      "\n",
      "      ExperienceInCurrentDomain  Gender_Male  City_New Delhi  City_Pune  \n",
      "4097                   0.142857          0.0             1.0        0.0  \n",
      "1694                   0.571429          1.0             0.0        0.0  \n",
      "2659                   0.714286          1.0             0.0        1.0  \n",
      "3860                   0.571429          1.0             0.0        0.0  \n",
      "1250                   0.714286          1.0             0.0        0.0  \n",
      "\n",
      "Scaled Testing Data:\n",
      "      Education  JoiningYear  PaymentTier       Age  EverBenched  \\\n",
      "832           2     0.833333            2  0.263158            0   \n",
      "3223          1     0.333333            3  0.736842            0   \n",
      "4344          1     0.000000            3  0.473684            0   \n",
      "3746          1     0.500000            3  0.473684            0   \n",
      "1019          1     0.166667            3  0.263158            0   \n",
      "\n",
      "      ExperienceInCurrentDomain  Gender_Male  City_New Delhi  City_Pune  \n",
      "832                    0.714286          0.0             1.0        0.0  \n",
      "3223                   0.428571          0.0             0.0        0.0  \n",
      "4344                   0.428571          1.0             0.0        0.0  \n",
      "3746                   0.000000          1.0             1.0        0.0  \n",
      "1019                   0.714286          0.0             0.0        0.0  \n"
     ]
    }
   ],
   "source": [
    "columns_to_scale = ['JoiningYear', 'Age', 'ExperienceInCurrentDomain']\n",
    "\n",
    "# Initialize the scaler\n",
    "scaler = MinMaxScaler()\n",
    "\n",
    "# Fit and transform on the training data\n",
    "X_train[columns_to_scale] = scaler.fit_transform(X_train[columns_to_scale])\n",
    "\n",
    "# Apply the same transformation to the testing data\n",
    "X_test[columns_to_scale] = scaler.transform(X_test[columns_to_scale])\n",
    "\n",
    "# Displaying the updated X_train and X_test\n",
    "print(\"Scaled Training Data:\")\n",
    "print(X_train.head())\n",
    "\n",
    "print(\"\\nScaled Testing Data:\")\n",
    "print(X_test.head())"
   ]
  },
  {
   "cell_type": "code",
   "execution_count": 57,
   "metadata": {
    "execution": {
     "iopub.execute_input": "2023-12-12T11:46:36.592501Z",
     "iopub.status.busy": "2023-12-12T11:46:36.590235Z",
     "iopub.status.idle": "2023-12-12T11:46:36.898964Z",
     "shell.execute_reply": "2023-12-12T11:46:36.897777Z",
     "shell.execute_reply.started": "2023-12-12T11:46:36.592452Z"
    }
   },
   "outputs": [],
   "source": [
    "from sklearn.neighbors import KNeighborsClassifier\n",
    "from sklearn.svm import SVC\n",
    "from sklearn.naive_bayes import GaussianNB\n",
    "from sklearn.tree import DecisionTreeClassifier\n",
    "from sklearn.ensemble import RandomForestClassifier\n",
    "from sklearn.linear_model import LogisticRegression"
   ]
  },
  {
   "cell_type": "code",
   "execution_count": 58,
   "metadata": {
    "execution": {
     "iopub.execute_input": "2023-12-12T11:46:36.901200Z",
     "iopub.status.busy": "2023-12-12T11:46:36.900807Z",
     "iopub.status.idle": "2023-12-12T11:46:36.906787Z",
     "shell.execute_reply": "2023-12-12T11:46:36.905561Z",
     "shell.execute_reply.started": "2023-12-12T11:46:36.901167Z"
    }
   },
   "outputs": [],
   "source": [
    "# Creating instances of the models\n",
    "knn = KNeighborsClassifier()\n",
    "svc = SVC()\n",
    "nb = GaussianNB()\n",
    "dt = DecisionTreeClassifier()\n",
    "rf = RandomForestClassifier()\n",
    "lr = LogisticRegression()"
   ]
  },
  {
   "cell_type": "code",
   "execution_count": 59,
   "metadata": {
    "execution": {
     "iopub.execute_input": "2023-12-12T11:46:36.909066Z",
     "iopub.status.busy": "2023-12-12T11:46:36.908718Z",
     "iopub.status.idle": "2023-12-12T11:46:36.924523Z",
     "shell.execute_reply": "2023-12-12T11:46:36.923048Z",
     "shell.execute_reply.started": "2023-12-12T11:46:36.909036Z"
    }
   },
   "outputs": [
    {
     "name": "stdout",
     "output_type": "stream",
     "text": [
      "List of Models:\n",
      "[('KNN', KNeighborsClassifier()), ('SVC', SVC()), ('NaiveBayes', GaussianNB()), ('DecisionTree', DecisionTreeClassifier()), ('RandomForest', RandomForestClassifier()), ('LogisticRegression', LogisticRegression())]\n"
     ]
    }
   ],
   "source": [
    "model_pipeline = [\n",
    "    ('KNN', knn),\n",
    "    ('SVC', svc),\n",
    "    ('NaiveBayes', nb),\n",
    "    ('DecisionTree', dt),\n",
    "    ('RandomForest', rf),\n",
    "    ('LogisticRegression', lr)\n",
    "]\n",
    "\n",
    "# Printing the list of models\n",
    "print(\"List of Models:\")\n",
    "print(model_pipeline)"
   ]
  },
  {
   "cell_type": "code",
   "execution_count": 60,
   "metadata": {
    "execution": {
     "iopub.execute_input": "2023-12-12T11:46:36.926738Z",
     "iopub.status.busy": "2023-12-12T11:46:36.926378Z",
     "iopub.status.idle": "2023-12-12T11:46:36.935481Z",
     "shell.execute_reply": "2023-12-12T11:46:36.934207Z",
     "shell.execute_reply.started": "2023-12-12T11:46:36.926708Z"
    }
   },
   "outputs": [],
   "source": [
    "from sklearn.metrics import accuracy_score"
   ]
  },
  {
   "cell_type": "code",
   "execution_count": 61,
   "metadata": {
    "execution": {
     "iopub.execute_input": "2023-12-12T11:46:36.937254Z",
     "iopub.status.busy": "2023-12-12T11:46:36.936852Z",
     "iopub.status.idle": "2023-12-12T11:46:38.211929Z",
     "shell.execute_reply": "2023-12-12T11:46:38.210438Z",
     "shell.execute_reply.started": "2023-12-12T11:46:36.937224Z"
    }
   },
   "outputs": [
    {
     "name": "stdout",
     "output_type": "stream",
     "text": [
      "Accuracy Scores:\n",
      "KNN: 0.8088\n",
      "SVC: 0.7841\n",
      "NaiveBayes: 0.7046\n",
      "DecisionTree: 0.8067\n",
      "RandomForest: 0.8324\n",
      "LogisticRegression: 0.7465\n"
     ]
    }
   ],
   "source": [
    "accuracy_scores = {}\n",
    "predictions = {}\n",
    "\n",
    "# Iterate through each model in the pipeline\n",
    "for name, model in model_pipeline:\n",
    "    # Fit the model on the training data\n",
    "    model.fit(X_train, y_train)\n",
    "    \n",
    "    # Predict on the test data\n",
    "    y_pred = model.predict(X_test)\n",
    "    \n",
    "    # Calculate accuracy and store predictions\n",
    "    acc = accuracy_score(y_test, y_pred)\n",
    "    accuracy_scores[name] = acc\n",
    "    predictions[name] = y_pred\n",
    "\n",
    "# Display accuracy scores for each model\n",
    "print(\"Accuracy Scores:\")\n",
    "for name, acc in accuracy_scores.items():\n",
    "    print(f\"{name}: {acc:.4f}\")"
   ]
  },
  {
   "cell_type": "code",
   "execution_count": 62,
   "metadata": {
    "execution": {
     "iopub.execute_input": "2023-12-12T11:46:38.214944Z",
     "iopub.status.busy": "2023-12-12T11:46:38.213983Z",
     "iopub.status.idle": "2023-12-12T11:46:40.343717Z",
     "shell.execute_reply": "2023-12-12T11:46:40.342124Z",
     "shell.execute_reply.started": "2023-12-12T11:46:38.214865Z"
    }
   },
   "outputs": [
    {
     "name": "stdout",
     "output_type": "stream",
     "text": [
      "Model: KNN\n",
      "Training Accuracy: 0.8627\n",
      "Testing Accuracy: 0.8088\n",
      "\n",
      "Model: SVC\n",
      "Training Accuracy: 0.7652\n",
      "Testing Accuracy: 0.7841\n",
      "\n",
      "Model: NaiveBayes\n",
      "Training Accuracy: 0.6926\n",
      "Testing Accuracy: 0.7046\n",
      "\n",
      "Model: DecisionTree\n",
      "Training Accuracy: 0.9296\n",
      "Testing Accuracy: 0.8067\n",
      "\n",
      "Model: RandomForest\n",
      "Training Accuracy: 0.9296\n",
      "Testing Accuracy: 0.8335\n",
      "\n",
      "Model: LogisticRegression\n",
      "Training Accuracy: 0.7273\n",
      "Testing Accuracy: 0.7465\n",
      "\n",
      "Accuracy Scores:\n",
      "KNN: 0.8088\n",
      "SVC: 0.7841\n",
      "NaiveBayes: 0.7046\n",
      "DecisionTree: 0.8067\n",
      "RandomForest: 0.8335\n",
      "LogisticRegression: 0.7465\n"
     ]
    }
   ],
   "source": [
    "from sklearn.metrics import accuracy_score\n",
    "\n",
    "accuracy_scores = {}\n",
    "predictions = {}\n",
    "\n",
    "# Iterate through each model in the pipeline\n",
    "for name, model in model_pipeline:\n",
    "    # Fit the model on the entire data\n",
    "    model.fit(X_train, y_train)\n",
    "    \n",
    "    # Predict on the test data\n",
    "    y_pred = model.predict(X_test)\n",
    "    \n",
    "    # Calculate accuracy and store predictions on test data\n",
    "    acc = accuracy_score(y_test, y_pred)\n",
    "    accuracy_scores[name] = acc\n",
    "    predictions[name] = y_pred\n",
    "    \n",
    "    # Evaluate accuracy on the training set (optional)\n",
    "    train_preds = model.predict(X_train)\n",
    "    train_accuracy = accuracy_score(y_train, train_preds)\n",
    "    print(f\"Model: {name}\")\n",
    "    print(f\"Training Accuracy: {train_accuracy:.4f}\")\n",
    "    print(f\"Testing Accuracy: {acc:.4f}\\n\")\n",
    "\n",
    "# Display accuracy scores for each model\n",
    "print(\"Accuracy Scores:\")\n",
    "for name, acc in accuracy_scores.items():\n",
    "    print(f\"{name}: {acc:.4f}\")"
   ]
  },
  {
   "cell_type": "code",
   "execution_count": 63,
   "metadata": {
    "execution": {
     "iopub.execute_input": "2023-12-12T11:46:40.354777Z",
     "iopub.status.busy": "2023-12-12T11:46:40.353471Z",
     "iopub.status.idle": "2023-12-12T11:46:40.373623Z",
     "shell.execute_reply": "2023-12-12T11:46:40.372087Z",
     "shell.execute_reply.started": "2023-12-12T11:46:40.354707Z"
    }
   },
   "outputs": [],
   "source": [
    "# from sklearn.model_selection import GridSearchCV\n",
    "\n",
    "# # Define hyperparameters for each model\n",
    "# param_grid_knn = {'n_neighbors': [3, 5, 7,9],'weights':['uniform','distance'],'metric':['euclidean','manhattan']}\n",
    "# param_grid_svc = {'C': [0.1, 1, 10], 'gamma': [0.1, 1, 'auto']}\n",
    "# param_grid_dt = {'max_depth': [3, 5, 7]}\n",
    "# param_grid_rf = {'min_samples_split': [3, 5, 10], \n",
    "#     'n_estimators' : [100, 300],\n",
    "#     'max_depth': [3, 5, 15, 25],\n",
    "#     'max_features': [3, 5, 10, 20]}\n",
    "# param_grid_lr = {'classifier' : [LogisticRegression()],\n",
    "#      'classifier__penalty' : ['l1', 'l2'],\n",
    "#     'classifier__C' : np.logspace(-4, 4, 20),\n",
    "#     'classifier__solver' : ['liblinear']}\n",
    "\n",
    "# # Create a list of tuples containing model name and its hyperparameters grid\n",
    "# param_grids = [\n",
    "#     ('KNN', KNeighborsClassifier(), param_grid_knn),\n",
    "#     ('SVC', SVC(), param_grid_svc),\n",
    "#     ('DecisionTree', DecisionTreeClassifier(), param_grid_dt),\n",
    "#     ('RandomForest', RandomForestClassifier(), param_grid_rf),\n",
    "#     ('LogisticRegression', LogisticRegression(), param_grid_lr)\n",
    "# ]\n",
    "\n",
    "# # Dictionary to store best models after GridSearchCV\n",
    "# best_models = {}\n",
    "\n",
    "# # Loop through each model to perform GridSearchCV\n",
    "# for name, model, param_grid in param_grids:\n",
    "#     grid_search = GridSearchCV(model, param_grid, cv=3, scoring='accuracy')\n",
    "#     grid_search.fit(X_train, y_train)\n",
    "#     best_models[name] = grid_search.best_estimator_\n",
    "#     print(f\"Best parameters for {name}: {grid_search.best_params_}\")\n",
    "\n",
    "# # Evaluating best models on test data and printing accuracy scores\n",
    "# print(\"\\nAccuracy Scores after GridSearchCV:\")\n",
    "# for name, model in best_models.items():\n",
    "#     y_pred = model.predict(X_test)\n",
    "#     acc = accuracy_score(y_test, y_pred)\n",
    "#     print(f\"{name}: {acc:.4f}\")"
   ]
  },
  {
   "cell_type": "code",
   "execution_count": 66,
   "metadata": {
    "execution": {
     "iopub.execute_input": "2023-12-12T11:49:05.618983Z",
     "iopub.status.busy": "2023-12-12T11:49:05.618507Z",
     "iopub.status.idle": "2023-12-12T11:49:05.624388Z",
     "shell.execute_reply": "2023-12-12T11:49:05.623298Z",
     "shell.execute_reply.started": "2023-12-12T11:49:05.618939Z"
    }
   },
   "outputs": [],
   "source": [
    "from sklearn.model_selection import GridSearchCV"
   ]
  },
  {
   "cell_type": "code",
   "execution_count": 67,
   "metadata": {
    "execution": {
     "iopub.execute_input": "2023-12-12T11:49:08.074485Z",
     "iopub.status.busy": "2023-12-12T11:49:08.074058Z",
     "iopub.status.idle": "2023-12-12T11:53:26.406127Z",
     "shell.execute_reply": "2023-12-12T11:53:26.404475Z",
     "shell.execute_reply.started": "2023-12-12T11:49:08.074449Z"
    }
   },
   "outputs": [
    {
     "name": "stdout",
     "output_type": "stream",
     "text": [
      "Best parameters for KNN: {'metric': 'manhattan', 'n_neighbors': 7, 'weights': 'uniform'}\n",
      "Best parameters for SVC: {'C': 10, 'gamma': 1}\n",
      "Best parameters for DecisionTree: {'max_depth': 7}\n",
      "Best parameters for RandomForest: {'max_depth': 25, 'max_features': 5, 'min_samples_split': 10, 'n_estimators': 100}\n",
      "Best parameters for LogisticRegression: {'C': 0.08858667904100823, 'penalty': 'l2', 'solver': 'liblinear'}\n",
      "\n",
      "Accuracy Scores after GridSearchCV:\n",
      "KNN - Train Accuracy: 0.855, Test Accuracy: 0.827\n",
      "SVC - Train Accuracy: 0.870, Test Accuracy: 0.850\n",
      "DecisionTree - Train Accuracy: 0.860, Test Accuracy: 0.857\n",
      "RandomForest - Train Accuracy: 0.891, Test Accuracy: 0.849\n",
      "LogisticRegression - Train Accuracy: 0.724, Test Accuracy: 0.747\n"
     ]
    }
   ],
   "source": [
    "param_grid_knn = {'n_neighbors': [3, 5, 7, 9], 'weights': ['uniform', 'distance'], 'metric': ['euclidean', 'manhattan']}\n",
    "param_grid_svc = {'C': [0.1, 1, 10], 'gamma': [0.1, 1, 'auto']}\n",
    "param_grid_dt = {'max_depth': [3, 5, 7]}\n",
    "param_grid_rf = {'min_samples_split': [3, 5, 10], \n",
    "                 'n_estimators': [100, 300],\n",
    "                 'max_depth': [3, 5, 15, 25],\n",
    "                 'max_features': [3, 5, 10, 20]}\n",
    "param_grid_lr = {'penalty': ['l1', 'l2'],\n",
    "                 'C': np.logspace(-4, 4, 20),\n",
    "                 'solver': ['liblinear']}\n",
    "\n",
    "# Create a list of tuples containing model name and its hyperparameters grid\n",
    "param_grids = [\n",
    "    ('KNN', KNeighborsClassifier(), param_grid_knn),\n",
    "    ('SVC', SVC(), param_grid_svc),\n",
    "    ('DecisionTree', DecisionTreeClassifier(), param_grid_dt),\n",
    "    ('RandomForest', RandomForestClassifier(), param_grid_rf),\n",
    "    ('LogisticRegression', LogisticRegression(), param_grid_lr)\n",
    "]\n",
    "\n",
    "# Dictionary to store best models after GridSearchCV\n",
    "best_models = {}\n",
    "\n",
    "# Loop through each model to perform GridSearchCV\n",
    "for name, model, param_grid in param_grids:\n",
    "    grid_search = GridSearchCV(model, param_grid, cv=3, scoring='accuracy')\n",
    "    grid_search.fit(X_train, y_train)\n",
    "    best_models[name] = grid_search.best_estimator_\n",
    "    print(f\"Best parameters for {name}: {grid_search.best_params_}\")\n",
    "\n",
    "# Evaluating best models on training and test data and printing accuracy scores\n",
    "print(\"\\nAccuracy Scores after GridSearchCV:\")\n",
    "for name, model in best_models.items():\n",
    "    y_train_pred = model.predict(X_train)\n",
    "    train_acc = accuracy_score(y_train, y_train_pred)\n",
    "    \n",
    "    y_test_pred = model.predict(X_test)\n",
    "    test_acc = accuracy_score(y_test, y_test_pred)\n",
    "    \n",
    "    print(f\"{name} - Train Accuracy: {train_acc:.3f}, Test Accuracy: {test_acc:.3f}\")"
   ]
  },
  {
   "cell_type": "code",
   "execution_count": null,
   "metadata": {
    "execution": {
     "iopub.status.busy": "2023-12-12T11:46:41.077876Z",
     "iopub.status.idle": "2023-12-12T11:46:41.078376Z",
     "shell.execute_reply": "2023-12-12T11:46:41.078189Z",
     "shell.execute_reply.started": "2023-12-12T11:46:41.078166Z"
    }
   },
   "outputs": [],
   "source": [
    "# import time\n",
    "\n",
    "# # Dictionary to store prediction times for each model\n",
    "# prediction_times = {}\n",
    "\n",
    "# # Loop through each best model and record prediction time\n",
    "# for name, model in best_models.items():\n",
    "#     start_time = time.time()\n",
    "#     model.predict(X_test)\n",
    "#     end_time = time.time()\n",
    "#     time_taken = end_time - start_time\n",
    "#     prediction_times[name] = time_taken\n",
    "\n",
    "# # Display prediction times for each model\n",
    "# print(\"Prediction Times for each model:\")\n",
    "# for name, time_taken in prediction_times.items():\n",
    "#     print(f\"{name}: {time_taken:.6f} seconds\")"
   ]
  },
  {
   "cell_type": "code",
   "execution_count": 68,
   "metadata": {
    "execution": {
     "iopub.execute_input": "2023-12-12T11:53:26.410920Z",
     "iopub.status.busy": "2023-12-12T11:53:26.409761Z",
     "iopub.status.idle": "2023-12-12T11:53:26.819269Z",
     "shell.execute_reply": "2023-12-12T11:53:26.818120Z",
     "shell.execute_reply.started": "2023-12-12T11:53:26.410849Z"
    }
   },
   "outputs": [
    {
     "data": {
      "image/png": "[encoded data removed]",
      "text/plain": [
       "<Figure size 1000x600 with 1 Axes>"
      ]
     },
     "metadata": {},
     "output_type": "display_data"
    }
   ],
   "source": [
    "from sklearn.tree import DecisionTreeClassifier\n",
    "import matplotlib.pyplot as plt\n",
    "\n",
    "# Assuming you have X_train, y_train and a trained DecisionTreeClassifier model (for example, best_models['DecisionTree'])\n",
    "\n",
    "# Train a Decision Tree model\n",
    "model = DecisionTreeClassifier()\n",
    "model.fit(X_train, y_train)\n",
    "\n",
    "# Get feature importances\n",
    "importances = model.feature_importances_\n",
    "\n",
    "# Sort feature importances in descending order\n",
    "indices = (-importances).argsort()\n",
    "\n",
    "# Rearrange feature names based on importance\n",
    "names = X_train.columns[indices]\n",
    "\n",
    "# Plotting feature importances\n",
    "plt.figure(figsize=(10,6))\n",
    "plt.bar(range(X_train.shape[1]), importances[indices], align=\"center\")\n",
    "plt.xticks(range(X_train.shape[1]), names, rotation=90)\n",
    "plt.xlabel('Feature')\n",
    "plt.ylabel('Importance')\n",
    "plt.title('Feature Importance')\n",
    "plt.show()\n"
   ]
  },
  {
   "cell_type": "code",
   "execution_count": 69,
   "metadata": {
    "execution": {
     "iopub.execute_input": "2023-12-12T11:53:26.821088Z",
     "iopub.status.busy": "2023-12-12T11:53:26.820714Z",
     "iopub.status.idle": "2023-12-12T11:53:27.041230Z",
     "shell.execute_reply": "2023-12-12T11:53:27.040110Z",
     "shell.execute_reply.started": "2023-12-12T11:53:26.821057Z"
    }
   },
   "outputs": [
    {
     "name": "stdout",
     "output_type": "stream",
     "text": [
      "Prediction Times:\n",
      "KNN: 0.099180 seconds\n",
      "SVC: 0.085008 seconds\n",
      "DecisionTree: 0.002151 seconds\n",
      "RandomForest: 0.024724 seconds\n",
      "LogisticRegression: 0.002080 seconds\n"
     ]
    }
   ],
   "source": [
    "import time\n",
    "\n",
    "# Dictionary to store prediction times for each model\n",
    "prediction_times = {}\n",
    "\n",
    "# Loop through each model and measure prediction time\n",
    "for name, model in best_models.items():\n",
    "    start_time = time.time()  # Start time before making predictions\n",
    "    model.predict(X_test)     # Predict on the test set\n",
    "    end_time = time.time()    # End time after making predictions\n",
    "    elapsed_time = end_time - start_time  # Calculate elapsed time\n",
    "    prediction_times[name] = elapsed_time  # Store elapsed time for the model\n",
    "    \n",
    "# Display prediction times for each model\n",
    "print(\"Prediction Times:\")\n",
    "for name, time_taken in prediction_times.items():\n",
    "    print(f\"{name}: {time_taken:.6f} seconds\")\n"
   ]
  },
  {
   "cell_type": "code",
   "execution_count": 70,
   "metadata": {
    "execution": {
     "iopub.execute_input": "2023-12-12T11:53:27.044318Z",
     "iopub.status.busy": "2023-12-12T11:53:27.043979Z",
     "iopub.status.idle": "2023-12-12T11:53:28.328714Z",
     "shell.execute_reply": "2023-12-12T11:53:28.327189Z",
     "shell.execute_reply.started": "2023-12-12T11:53:27.044288Z"
    }
   },
   "outputs": [
    {
     "name": "stdout",
     "output_type": "stream",
     "text": [
      "Accuracy and Prediction Times using Best Parameters for y_test:\n",
      "KNN: Accuracy - 0.8271, Prediction Time - 0.104553 seconds\n",
      "SVC: Accuracy - 0.8496, Prediction Time - 0.596286 seconds\n",
      "DecisionTree: Accuracy - 0.8571, Prediction Time - 0.012152 seconds\n",
      "RandomForest: Accuracy - 0.8485, Prediction Time - 0.539819 seconds\n",
      "LogisticRegression: Accuracy - 0.7465, Prediction Time - 0.013407 seconds\n"
     ]
    }
   ],
   "source": [
    "import time\n",
    "from sklearn.metrics import accuracy_score\n",
    "\n",
    "# Best parameters obtained from GridSearchCV\n",
    "best_params = {\n",
    "    'KNN': {'metric': 'manhattan', 'n_neighbors': 7, 'weights': 'uniform'},\n",
    "    'SVC': {'C': 10, 'gamma': 1},\n",
    "    'DecisionTree': {'max_depth': 7},\n",
    "    'RandomForest': {'max_depth': 25, 'max_features': 5, 'min_samples_split': 10, 'n_estimators': 100},\n",
    "    'LogisticRegression': {'C': 0.08858667904100823, 'penalty': 'l2', 'solver': 'liblinear'}\n",
    "}\n",
    "\n",
    "# Create instances of models with best parameters\n",
    "best_models = {\n",
    "    'KNN': KNeighborsClassifier(**best_params['KNN']),\n",
    "    'SVC': SVC(**best_params['SVC']),\n",
    "    'DecisionTree': DecisionTreeClassifier(**best_params['DecisionTree']),\n",
    "    'RandomForest': RandomForestClassifier(**best_params['RandomForest']),\n",
    "    'LogisticRegression': LogisticRegression(**best_params['LogisticRegression'])\n",
    "}\n",
    "\n",
    "# Dictionary to store accuracy scores and prediction times for each model with best parameters\n",
    "results = {}\n",
    "\n",
    "# Loop through each model and measure prediction time using best parameters on y_test labels\n",
    "for name, model in best_models.items():\n",
    "    start_time = time.time()  # Start time before making predictions\n",
    "    model.fit(X_train, y_train)  # Fit the model with best parameters\n",
    "    y_pred = model.predict(X_test)  # Predict on the test set\n",
    "    end_time = time.time()  # End time after making predictions\n",
    "    elapsed_time = end_time - start_time  # Calculate elapsed time\n",
    "    \n",
    "    # Calculate accuracy\n",
    "    acc = accuracy_score(y_test, y_pred)\n",
    "    \n",
    "    # Store accuracy and elapsed time for the model\n",
    "    results[name] = {'Accuracy': acc, 'Prediction Time': elapsed_time}\n",
    "\n",
    "# Display accuracy and prediction time for each model using best parameters\n",
    "print(\"Accuracy and Prediction Times using Best Parameters for y_test:\")\n",
    "for name, metrics in results.items():\n",
    "    print(f\"{name}: Accuracy - {metrics['Accuracy']:.4f}, Prediction Time - {metrics['Prediction Time']:.6f} seconds\")\n"
   ]
  },
  {
   "cell_type": "code",
   "execution_count": null,
   "metadata": {
    "execution": {
     "iopub.status.busy": "2023-12-12T11:46:41.084831Z",
     "iopub.status.idle": "2023-12-12T11:46:41.085232Z",
     "shell.execute_reply": "2023-12-12T11:46:41.085066Z",
     "shell.execute_reply.started": "2023-12-12T11:46:41.085047Z"
    }
   },
   "outputs": [],
   "source": [
    "# from sklearn.tree import DecisionTreeClassifier\n",
    "# import joblib\n",
    "\n",
    "# # Assuming you have already trained the Decision Tree model (best_models['DecisionTree'])\n",
    "# # Replace 'best_models['DecisionTree']' with your trained Decision Tree model\n",
    "\n",
    "# # Save the model to a file\n",
    "# joblib.dump(best_models['DecisionTree'], 'decision_tree_model.pkl')"
   ]
  },
  {
   "cell_type": "code",
   "execution_count": 71,
   "metadata": {
    "execution": {
     "iopub.execute_input": "2023-12-12T11:53:28.330881Z",
     "iopub.status.busy": "2023-12-12T11:53:28.330397Z",
     "iopub.status.idle": "2023-12-12T11:53:28.354646Z",
     "shell.execute_reply": "2023-12-12T11:53:28.353412Z",
     "shell.execute_reply.started": "2023-12-12T11:53:28.330835Z"
    }
   },
   "outputs": [
    {
     "name": "stdout",
     "output_type": "stream",
     "text": [
      "Accuracy for Decision Tree using Best Parameters: 0.8571\n"
     ]
    }
   ],
   "source": [
    "from sklearn.tree import DecisionTreeClassifier\n",
    "\n",
    "# Best parameters for Decision Tree obtained from GridSearchCV\n",
    "best_params_decision_tree = {\n",
    "    'max_depth': 7  # Replace this with your best parameters for Decision Tree\n",
    "}\n",
    "\n",
    "# Create a Decision Tree Classifier instance with best parameters\n",
    "dt = DecisionTreeClassifier(**best_params_decision_tree)\n",
    "\n",
    "# Train the model with the best parameters\n",
    "dt.fit(X_train, y_train)\n",
    "\n",
    "# Predict using the trained model\n",
    "y_pred_decision_tree = dt.predict(X_test)\n",
    "\n",
    "# Calculate accuracy for Decision Tree\n",
    "accuracy_decision_tree = accuracy_score(y_test, y_pred_decision_tree)\n",
    "\n",
    "# Display accuracy for Decision Tree using best parameters\n",
    "print(f\"Accuracy for Decision Tree using Best Parameters: {accuracy_decision_tree:.4f}\")\n"
   ]
  },
  {
   "cell_type": "code",
   "execution_count": 72,
   "metadata": {
    "execution": {
     "iopub.execute_input": "2023-12-12T11:53:28.356499Z",
     "iopub.status.busy": "2023-12-12T11:53:28.356129Z",
     "iopub.status.idle": "2023-12-12T11:53:28.366045Z",
     "shell.execute_reply": "2023-12-12T11:53:28.365159Z",
     "shell.execute_reply.started": "2023-12-12T11:53:28.356456Z"
    }
   },
   "outputs": [
    {
     "data": {
      "text/plain": [
       "['dt_model.pkl']"
      ]
     },
     "execution_count": 72,
     "metadata": {},
     "output_type": "execute_result"
    }
   ],
   "source": [
    "from sklearn.tree import DecisionTreeClassifier\n",
    "import joblib\n",
    "\n",
    "# Assuming you have already trained the Decision Tree model (best_models['DecisionTree'])\n",
    "# Replace 'best_models['DecisionTree']' with your trained Decision Tree model\n",
    "\n",
    "# Save the model to a file\n",
    "joblib.dump(dt, 'dt_model.pkl')"
   ]
  },
  {
   "cell_type": "code",
   "execution_count": null,
   "metadata": {
    "execution": {
     "iopub.status.busy": "2023-12-12T11:46:41.090185Z",
     "iopub.status.idle": "2023-12-12T11:46:41.090727Z",
     "shell.execute_reply": "2023-12-12T11:46:41.090477Z",
     "shell.execute_reply.started": "2023-12-12T11:46:41.090450Z"
    }
   },
   "outputs": [],
   "source": [
    "X_test"
   ]
  },
  {
   "cell_type": "code",
   "execution_count": 73,
   "metadata": {
    "execution": {
     "iopub.execute_input": "2023-12-12T11:53:28.367967Z",
     "iopub.status.busy": "2023-12-12T11:53:28.367399Z",
     "iopub.status.idle": "2023-12-12T11:53:28.385251Z",
     "shell.execute_reply": "2023-12-12T11:53:28.384076Z",
     "shell.execute_reply.started": "2023-12-12T11:53:28.367889Z"
    }
   },
   "outputs": [
    {
     "name": "stdout",
     "output_type": "stream",
     "text": [
      "<class 'pandas.core.frame.DataFrame'>\n",
      "Index: 931 entries, 832 to 3975\n",
      "Data columns (total 9 columns):\n",
      " #   Column                     Non-Null Count  Dtype  \n",
      "---  ------                     --------------  -----  \n",
      " 0   Education                  931 non-null    int64  \n",
      " 1   JoiningYear                931 non-null    float64\n",
      " 2   PaymentTier                931 non-null    int64  \n",
      " 3   Age                        931 non-null    float64\n",
      " 4   EverBenched                931 non-null    int64  \n",
      " 5   ExperienceInCurrentDomain  931 non-null    float64\n",
      " 6   Gender_Male                931 non-null    float64\n",
      " 7   City_New Delhi             931 non-null    float64\n",
      " 8   City_Pune                  931 non-null    float64\n",
      "dtypes: float64(6), int64(3)\n",
      "memory usage: 72.7 KB\n"
     ]
    }
   ],
   "source": [
    "X_test.info()"
   ]
  },
  {
   "cell_type": "code",
   "execution_count": null,
   "metadata": {
    "execution": {
     "iopub.status.busy": "2023-12-12T11:46:41.094248Z",
     "iopub.status.idle": "2023-12-12T11:46:41.094649Z",
     "shell.execute_reply": "2023-12-12T11:46:41.094474Z",
     "shell.execute_reply.started": "2023-12-12T11:46:41.094456Z"
    }
   },
   "outputs": [],
   "source": [
    "# for i in best_models.items():\n",
    "#     print(i.fit())"
   ]
  },
  {
   "cell_type": "code",
   "execution_count": 75,
   "metadata": {
    "execution": {
     "iopub.execute_input": "2023-12-12T11:54:52.916219Z",
     "iopub.status.busy": "2023-12-12T11:54:52.915708Z",
     "iopub.status.idle": "2023-12-12T11:54:52.925156Z",
     "shell.execute_reply": "2023-12-12T11:54:52.923707Z",
     "shell.execute_reply.started": "2023-12-12T11:54:52.916182Z"
    }
   },
   "outputs": [
    {
     "name": "stdout",
     "output_type": "stream",
     "text": [
      "[0]\n"
     ]
    },
    {
     "name": "stderr",
     "output_type": "stream",
     "text": [
      "/opt/conda/lib/python3.10/site-packages/sklearn/base.py:439: UserWarning:\n",
      "\n",
      "X does not have valid feature names, but DecisionTreeClassifier was fitted with feature names\n",
      "\n"
     ]
    }
   ],
   "source": [
    "single_instance = X_test.iloc[3].values  # Selecting the first instance (change index as needed)\n",
    "single_instance_2d = single_instance.reshape(1, -1)  # Reshape to a 2D array\n",
    "prediction = dt.predict(single_instance_2d)  # Predict for the single instance\n",
    "print(prediction)"
   ]
  },
  {
   "cell_type": "code",
   "execution_count": null,
   "metadata": {
    "execution": {
     "iopub.status.busy": "2023-12-12T11:46:41.100765Z",
     "iopub.status.idle": "2023-12-12T11:46:41.101450Z",
     "shell.execute_reply": "2023-12-12T11:46:41.101255Z",
     "shell.execute_reply.started": "2023-12-12T11:46:41.101231Z"
    }
   },
   "outputs": [],
   "source": [
    "print(X_test,y_test)"
   ]
  },
  {
   "cell_type": "code",
   "execution_count": 76,
   "metadata": {
    "execution": {
     "iopub.execute_input": "2023-12-12T11:55:02.859415Z",
     "iopub.status.busy": "2023-12-12T11:55:02.859029Z",
     "iopub.status.idle": "2023-12-12T11:55:02.867868Z",
     "shell.execute_reply": "2023-12-12T11:55:02.866414Z",
     "shell.execute_reply.started": "2023-12-12T11:55:02.859384Z"
    }
   },
   "outputs": [
    {
     "data": {
      "text/plain": [
       "array([[1.        , 0.5       , 3.        , 0.47368421, 0.        ,\n",
       "        0.        , 1.        , 1.        , 0.        ]])"
      ]
     },
     "execution_count": 76,
     "metadata": {},
     "output_type": "execute_result"
    }
   ],
   "source": [
    "single_instance_2d\n",
    "#Education,JoiningYear,PaymentTier,Age,EverBenched,ExperienceInCurrentDomain,Gender_Male,City_New_Delhi,City_Pune)\n",
    "#2 2014 3 40 1 5.0 0 0 0"
   ]
  },
  {
   "cell_type": "code",
   "execution_count": 77,
   "metadata": {
    "execution": {
     "iopub.execute_input": "2023-12-12T11:56:21.792364Z",
     "iopub.status.busy": "2023-12-12T11:56:21.791826Z",
     "iopub.status.idle": "2023-12-12T11:56:21.800566Z",
     "shell.execute_reply": "2023-12-12T11:56:21.799298Z",
     "shell.execute_reply.started": "2023-12-12T11:56:21.792330Z"
    }
   },
   "outputs": [
    {
     "data": {
      "text/plain": [
       "Index(['Education', 'JoiningYear', 'PaymentTier', 'Age', 'EverBenched',\n",
       "       'ExperienceInCurrentDomain', 'Gender_Male', 'City_New Delhi',\n",
       "       'City_Pune'],\n",
       "      dtype='object')"
      ]
     },
     "execution_count": 77,
     "metadata": {},
     "output_type": "execute_result"
    }
   ],
   "source": [
    "X_test.columns"
   ]
  },
  {
   "cell_type": "code",
   "execution_count": null,
   "metadata": {},
   "outputs": [],
   "source": []
  }
 ],
 "metadata": {
  "kaggle": {
   "accelerator": "none",
   "dataSources": [
    {
     "datasetId": 3707753,
     "sourceId": 6426550,
     "sourceType": "datasetVersion"
    }
   ],
   "dockerImageVersionId": 30587,
   "isGpuEnabled": false,
   "isInternetEnabled": true,
   "language": "python",
   "sourceType": "notebook"
  },
  "kernelspec": {
   "display_name": "Python 3",
   "language": "python",
   "name": "python3"
  },
  "language_info": {
   "codemirror_mode": {
    "name": "ipython",
    "version": 3
   },
   "file_extension": ".py",
   "mimetype": "text/x-python",
   "name": "python",
   "nbconvert_exporter": "python",
   "pygments_lexer": "ipython3",
   "version": "3.8.3"
  }
 },
 "nbformat": 4,
 "nbformat_minor": 4
}
